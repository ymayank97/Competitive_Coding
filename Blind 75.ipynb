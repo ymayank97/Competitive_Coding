{
 "cells": [
  {
   "cell_type": "markdown",
   "id": "c4eef760",
   "metadata": {},
   "source": [
    "> Solving blind 75 questions for amazon\n",
    "\n",
    "https://neetcode.io/practice"
   ]
  },
  {
   "cell_type": "code",
   "execution_count": null,
   "id": "890ff756",
   "metadata": {},
   "outputs": [],
   "source": []
  },
  {
   "cell_type": "code",
   "execution_count": null,
   "id": "6e6c3fbc",
   "metadata": {},
   "outputs": [],
   "source": []
  },
  {
   "cell_type": "markdown",
   "id": "9e7a7540",
   "metadata": {},
   "source": [
    "# 1. Contains Duplicate \n",
    "\n",
    "https://leetcode.com/problems/contains-duplicate/\n"
   ]
  },
  {
   "cell_type": "code",
   "execution_count": 6,
   "id": "059e51b6",
   "metadata": {},
   "outputs": [],
   "source": [
    "nums=[1,2,3,1]"
   ]
  },
  {
   "cell_type": "code",
   "execution_count": 7,
   "id": "c4e7b381",
   "metadata": {},
   "outputs": [
    {
     "name": "stdout",
     "output_type": "stream",
     "text": [
      "false\n"
     ]
    },
    {
     "data": {
      "text/plain": [
       "{1: 2, 2: 1, 3: 1}"
      ]
     },
     "execution_count": 7,
     "metadata": {},
     "output_type": "execute_result"
    }
   ],
   "source": [
    "dict1={}\n",
    "        \n",
    "for _,i in enumerate(nums):\n",
    "\n",
    "    if i in dict1.keys():\n",
    "        dict1[i]=dict1[i]+1\n",
    "        print('false')\n",
    "    else:\n",
    "        dict1[i]=1\n",
    "        \n",
    "dict1\n"
   ]
  },
  {
   "cell_type": "code",
   "execution_count": 5,
   "id": "09639507",
   "metadata": {},
   "outputs": [
    {
     "data": {
      "text/plain": [
       "True"
      ]
     },
     "execution_count": 5,
     "metadata": {},
     "output_type": "execute_result"
    }
   ],
   "source": [
    "len(nums) != len(set(nums))"
   ]
  },
  {
   "cell_type": "code",
   "execution_count": null,
   "id": "148d9850",
   "metadata": {},
   "outputs": [],
   "source": []
  },
  {
   "cell_type": "markdown",
   "id": "50b5b38a",
   "metadata": {},
   "source": [
    "# 2. Valid Anagram\n",
    "\n",
    "https://leetcode.com/problems/valid-anagram/"
   ]
  },
  {
   "cell_type": "code",
   "execution_count": 3,
   "id": "d51de697",
   "metadata": {},
   "outputs": [],
   "source": [
    "s = \"nagaram\"\n",
    "t = \"anagram\""
   ]
  },
  {
   "cell_type": "code",
   "execution_count": 4,
   "id": "5fca9768",
   "metadata": {},
   "outputs": [
    {
     "data": {
      "text/plain": [
       "True"
      ]
     },
     "execution_count": 4,
     "metadata": {},
     "output_type": "execute_result"
    }
   ],
   "source": [
    "import collections\n",
    "\n",
    "k = collections.Counter(s)\n",
    "\n",
    "for i,j in enumerate(t): k[j]-=1\n",
    "    \n",
    "not any(k.values())"
   ]
  },
  {
   "cell_type": "markdown",
   "id": "d2068b31",
   "metadata": {},
   "source": [
    "> sorted uses Timsort which is a combination of insertion and merge sort"
   ]
  },
  {
   "cell_type": "code",
   "execution_count": 8,
   "id": "05446c61",
   "metadata": {},
   "outputs": [
    {
     "data": {
      "text/plain": [
       "True"
      ]
     },
     "execution_count": 8,
     "metadata": {},
     "output_type": "execute_result"
    }
   ],
   "source": [
    "sorted(s) == sorted(t)"
   ]
  },
  {
   "cell_type": "code",
   "execution_count": null,
   "id": "cb83c7e4",
   "metadata": {},
   "outputs": [],
   "source": []
  },
  {
   "cell_type": "code",
   "execution_count": 8,
   "id": "86917923",
   "metadata": {},
   "outputs": [
    {
     "data": {
      "text/plain": [
       "True"
      ]
     },
     "execution_count": 8,
     "metadata": {},
     "output_type": "execute_result"
    }
   ],
   "source": [
    "dict1={}\n",
    "dict2={}\n",
    "for _, j in enumerate(s):\n",
    "    dict1[j]=dict1.get(j,0)+1\n",
    "        \n",
    "for _, j in enumerate(t):\n",
    "    dict2[j]=dict2.get(j,0)+1\n",
    "    \n",
    "dict1==dict2"
   ]
  },
  {
   "cell_type": "markdown",
   "id": "53853548",
   "metadata": {},
   "source": [
    "# 3. Group Anagrams\n",
    "\n",
    "https://leetcode.com/problems/group-anagrams/"
   ]
  },
  {
   "cell_type": "code",
   "execution_count": 30,
   "id": "473a42cc",
   "metadata": {},
   "outputs": [
    {
     "data": {
      "text/plain": [
       "dict_values([['eat', 'tea', 'ate'], ['tan', 'nat'], ['bat']])"
      ]
     },
     "execution_count": 30,
     "metadata": {},
     "output_type": "execute_result"
    }
   ],
   "source": [
    "strs = [\"eat\",\"tea\",\"tan\",\"ate\",\"nat\",\"bat\"]\n",
    "\n",
    "k={}\n",
    "\n",
    "for _,i in enumerate(strs):\n",
    "    key=''.join(sorted(i))\n",
    "    k[key]=k.get(key,[])+[i]\n",
    "\n",
    "k.values()"
   ]
  },
  {
   "cell_type": "code",
   "execution_count": null,
   "id": "20cdbb48",
   "metadata": {},
   "outputs": [],
   "source": []
  },
  {
   "cell_type": "markdown",
   "id": "404846b9",
   "metadata": {},
   "source": [
    "# 4. Top K elements\n",
    "\n",
    "https://leetcode.com/problems/top-k-frequent-elements/"
   ]
  },
  {
   "cell_type": "code",
   "execution_count": 1,
   "id": "0f9ee615",
   "metadata": {},
   "outputs": [
    {
     "data": {
      "text/plain": [
       "[1, 2]"
      ]
     },
     "execution_count": 1,
     "metadata": {},
     "output_type": "execute_result"
    }
   ],
   "source": [
    "nums = [1,1,1,2,2,3]\n",
    "k = 2\n",
    "\n",
    "dic={}\n",
    "for i,j in enumerate(nums):\n",
    "    dic[j]= dic.get(j,0)+1\n",
    "\n",
    "dic =dict(sorted(dic.items(), key=lambda item: item[1], reverse = True))\n",
    "list(dic.keys())[:k]\n"
   ]
  },
  {
   "cell_type": "code",
   "execution_count": null,
   "id": "01264361",
   "metadata": {},
   "outputs": [],
   "source": [
    "# use heap when trying to find top k elements\n",
    "# ????????????????"
   ]
  },
  {
   "cell_type": "markdown",
   "id": "9b5af2c8",
   "metadata": {},
   "source": [
    "# 5. Product of Array except self\n",
    "\n",
    "https://leetcode.com/problems/top-k-frequent-elements/\n"
   ]
  },
  {
   "cell_type": "code",
   "execution_count": null,
   "id": "23340dec",
   "metadata": {},
   "outputs": [],
   "source": []
  },
  {
   "cell_type": "code",
   "execution_count": 58,
   "id": "f6f9ad28",
   "metadata": {},
   "outputs": [
    {
     "data": {
      "text/plain": [
       "[24, 12, 8, 6]"
      ]
     },
     "execution_count": 58,
     "metadata": {},
     "output_type": "execute_result"
    }
   ],
   "source": [
    "nums = [1,2,3,4]\n",
    "\n",
    "prod= 16\n",
    "for i in nums:\n",
    "    prod*=i\n",
    "ans= []  \n",
    "for i in nums:\n",
    "    if i==0:\n",
    "        ans.append(prod)\n",
    "    else:\n",
    "        ans.append(prod//i)\n",
    "    \n",
    "ans"
   ]
  },
  {
   "cell_type": "code",
   "execution_count": null,
   "id": "15659066",
   "metadata": {},
   "outputs": [],
   "source": []
  },
  {
   "cell_type": "code",
   "execution_count": 22,
   "id": "c88c21f6",
   "metadata": {},
   "outputs": [
    {
     "name": "stdout",
     "output_type": "stream",
     "text": [
      "[1, 1, 2, 6]\n",
      "[24, 12, 8, 6]\n"
     ]
    }
   ],
   "source": [
    "nums = [1,2,3,4]\n",
    "# Output: [24,12,8,6]\n",
    "\n",
    "l=len(nums)\n",
    "\n",
    "res=[0]*l\n",
    "\n",
    "pre=1\n",
    "post=1\n",
    "\n",
    "for i,j in enumerate(nums):\n",
    "    res[i]=pre\n",
    "    pre=pre*j\n",
    "        \n",
    "for i in range(l-1,-1,-1):\n",
    "    res[i]*=post\n",
    "    post=post*nums[i]\n",
    "\n",
    "        \n",
    "print(res)"
   ]
  },
  {
   "cell_type": "code",
   "execution_count": null,
   "id": "9176ca67",
   "metadata": {},
   "outputs": [],
   "source": []
  },
  {
   "cell_type": "code",
   "execution_count": null,
   "id": "3e251aac",
   "metadata": {},
   "outputs": [],
   "source": []
  },
  {
   "cell_type": "markdown",
   "id": "35154373",
   "metadata": {},
   "source": [
    "# 6. Longest consecutive subsequence\n",
    "\n",
    "https://leetcode.com/problems/longest-consecutive-sequence/"
   ]
  },
  {
   "cell_type": "code",
   "execution_count": null,
   "id": "ff717e21",
   "metadata": {},
   "outputs": [],
   "source": [
    "# O(nlog(n)) time complexity"
   ]
  },
  {
   "cell_type": "code",
   "execution_count": 16,
   "id": "88534421",
   "metadata": {},
   "outputs": [
    {
     "name": "stdout",
     "output_type": "stream",
     "text": [
      "[0, 1, 2]\n"
     ]
    },
    {
     "data": {
      "text/plain": [
       "3"
      ]
     },
     "execution_count": 16,
     "metadata": {},
     "output_type": "execute_result"
    }
   ],
   "source": [
    "nums = [100,4,200,1,3,2]\n",
    "# nums = [0,3,7,2,5,8,4,6,0,1]\n",
    "nums = [1,2,0,1]\n",
    "\n",
    "lent=1\n",
    "max_lent=0\n",
    "\n",
    "nums = sorted(set(nums))\n",
    "print(nums)\n",
    "\n",
    "for ind, val in enumerate(nums):\n",
    "    if ind+1 < len(nums) and val+1 == nums[ind+1]:\n",
    "        lent+=1\n",
    "    else:\n",
    "        lent=1\n",
    "        \n",
    "    if max_lent<lent:\n",
    "        max_lent=lent\n",
    "        \n",
    "max_lent"
   ]
  },
  {
   "cell_type": "code",
   "execution_count": null,
   "id": "fc276f6f",
   "metadata": {},
   "outputs": [],
   "source": [
    "# O(n) time complexity"
   ]
  },
  {
   "cell_type": "code",
   "execution_count": 5,
   "id": "c7588255",
   "metadata": {},
   "outputs": [
    {
     "name": "stdout",
     "output_type": "stream",
     "text": [
      "[0, 1, 2]\n"
     ]
    },
    {
     "data": {
      "text/plain": [
       "3"
      ]
     },
     "execution_count": 5,
     "metadata": {},
     "output_type": "execute_result"
    }
   ],
   "source": [
    "nums = [100,4,200,1,3,2]\n",
    "# nums = [0,3,7,2,5,8,4,6,0,1]\n",
    "nums = [1,2,0,1]\n",
    "\n",
    "max_lent=0\n",
    "\n",
    "nums = list(set(nums))\n",
    "\n",
    "for ind, val in enumerate(nums):\n",
    "    if val - 1 not in nums:\n",
    "        y = val + 1\n",
    "        while y in nums:\n",
    "            y+=1\n",
    "        \n",
    "        max_lent = max(max_lent,y-val)\n",
    "        \n",
    "max_lent"
   ]
  },
  {
   "cell_type": "code",
   "execution_count": null,
   "id": "511ce29b",
   "metadata": {},
   "outputs": [],
   "source": []
  },
  {
   "cell_type": "code",
   "execution_count": null,
   "id": "8748f0f8",
   "metadata": {},
   "outputs": [],
   "source": []
  },
  {
   "cell_type": "markdown",
   "id": "281ddc89",
   "metadata": {},
   "source": [
    "# 7. Valid Palindrome\n",
    "\n",
    "https://leetcode.com/problems/valid-palindrome/"
   ]
  },
  {
   "cell_type": "markdown",
   "id": "c627c1fa",
   "metadata": {},
   "source": [
    "> Two pointer in O(1) memory and O(n) time"
   ]
  },
  {
   "cell_type": "code",
   "execution_count": 13,
   "id": "408628f7",
   "metadata": {},
   "outputs": [],
   "source": [
    "# not O(1) memory solution\n",
    "import re\n",
    "def clean(s):\n",
    "    s = s.lower()\n",
    "    pat = re.findall(r'[A-Za-z0-9]*',s)\n",
    "    \n",
    "    pat = ''.join(i for i in pat)\n",
    "    return pat\n",
    "\n",
    "\n",
    "s = \"A man, a plan, a canal: Panama\"\n",
    "    \n",
    "s = clean(s)\n",
    "\n",
    "n=len(s)\n",
    "\n",
    "for i in range(n//2):\n",
    "    j=n-i-1\n",
    "    \n",
    "    if s[i]!=s[j]:\n",
    "        return False"
   ]
  },
  {
   "cell_type": "code",
   "execution_count": null,
   "id": "1eb8b735",
   "metadata": {},
   "outputs": [],
   "source": []
  },
  {
   "cell_type": "code",
   "execution_count": 18,
   "id": "dc24dbd0",
   "metadata": {},
   "outputs": [
    {
     "name": "stdout",
     "output_type": "stream",
     "text": [
      "not a palindrome\n",
      "palindrome\n"
     ]
    }
   ],
   "source": [
    "s = \"A man, a plan, a caal: Panama\"\n",
    "\n",
    "l = 0\n",
    "r = len(s)-1\n",
    "\n",
    "while l<r:\n",
    "    \n",
    "    while l<r and not s[l].isalnum():\n",
    "        l+=1\n",
    "        \n",
    "    while l<r and not s[r].isalnum():\n",
    "        r-=1\n",
    "        \n",
    "    if s[l].lower()==s[r].lower():\n",
    "        \n",
    "        l+=1\n",
    "        r-=1\n",
    "        \n",
    "    else:\n",
    "        print('not a palindrome')\n",
    "        break\n",
    "        \n",
    "print('palindrome')"
   ]
  },
  {
   "cell_type": "code",
   "execution_count": null,
   "id": "5cdff59e",
   "metadata": {},
   "outputs": [],
   "source": []
  },
  {
   "cell_type": "markdown",
   "id": "1f063e5b",
   "metadata": {},
   "source": [
    "# 3 Sum\n",
    "\n",
    "https://leetcode.com/problems/3sum/"
   ]
  },
  {
   "cell_type": "code",
   "execution_count": null,
   "id": "9c81200b",
   "metadata": {},
   "outputs": [],
   "source": []
  },
  {
   "cell_type": "code",
   "execution_count": 78,
   "id": "f8a69ae4",
   "metadata": {},
   "outputs": [],
   "source": [
    "# nums = [-1,0,1,2,-1,-4]\n",
    "nums =[0,0,0]\n",
    "nums = [-2,0,1,1,2]\n"
   ]
  },
  {
   "cell_type": "code",
   "execution_count": 80,
   "id": "65e426d1",
   "metadata": {},
   "outputs": [
    {
     "ename": "IndexError",
     "evalue": "list index out of range",
     "output_type": "error",
     "traceback": [
      "\u001b[1;31m---------------------------------------------------------------------------\u001b[0m",
      "\u001b[1;31mIndexError\u001b[0m                                Traceback (most recent call last)",
      "\u001b[1;32m~\\AppData\\Local\\Temp/ipykernel_1344/3538639988.py\u001b[0m in \u001b[0;36m<module>\u001b[1;34m\u001b[0m\n\u001b[0;32m      5\u001b[0m \u001b[1;32mfor\u001b[0m \u001b[0mi\u001b[0m\u001b[1;33m,\u001b[0m \u001b[0mval\u001b[0m \u001b[1;32min\u001b[0m \u001b[0menumerate\u001b[0m\u001b[1;33m(\u001b[0m\u001b[0mnums\u001b[0m\u001b[1;33m)\u001b[0m\u001b[1;33m:\u001b[0m\u001b[1;33m\u001b[0m\u001b[1;33m\u001b[0m\u001b[0m\n\u001b[0;32m      6\u001b[0m     \u001b[1;32mif\u001b[0m \u001b[0mi\u001b[0m\u001b[1;33m<\u001b[0m\u001b[0mlen\u001b[0m\u001b[1;33m(\u001b[0m\u001b[0mnums\u001b[0m\u001b[1;33m)\u001b[0m\u001b[1;33m:\u001b[0m\u001b[1;33m\u001b[0m\u001b[1;33m\u001b[0m\u001b[0m\n\u001b[1;32m----> 7\u001b[1;33m         \u001b[0msum_2\u001b[0m \u001b[1;33m=\u001b[0m \u001b[0mval\u001b[0m\u001b[1;33m+\u001b[0m\u001b[0mnums\u001b[0m\u001b[1;33m[\u001b[0m\u001b[0mi\u001b[0m\u001b[1;33m+\u001b[0m\u001b[1;36m1\u001b[0m\u001b[1;33m]\u001b[0m\u001b[1;33m\u001b[0m\u001b[1;33m\u001b[0m\u001b[0m\n\u001b[0m\u001b[0;32m      8\u001b[0m \u001b[1;33m\u001b[0m\u001b[0m\n\u001b[0;32m      9\u001b[0m     \u001b[1;32mfor\u001b[0m \u001b[0mk\u001b[0m \u001b[1;32min\u001b[0m \u001b[0mnums\u001b[0m\u001b[1;33m[\u001b[0m\u001b[0mi\u001b[0m\u001b[1;33m+\u001b[0m\u001b[1;36m2\u001b[0m\u001b[1;33m:\u001b[0m\u001b[1;33m]\u001b[0m\u001b[1;33m:\u001b[0m\u001b[1;33m\u001b[0m\u001b[1;33m\u001b[0m\u001b[0m\n",
      "\u001b[1;31mIndexError\u001b[0m: list index out of range"
     ]
    }
   ],
   "source": [
    "final= []\n",
    "i=0;j=0;k=0\n",
    "\n",
    "sum_2 = 0\n",
    "for i, val in enumerate(nums):\n",
    "    if i+1<len(nums):\n",
    "        sum_2 = val+nums[i+1]\n",
    "    \n",
    "    for k in nums[i+2:]:\n",
    "            if nums[i]+nums[j]+nums[k]==0:\n",
    "                final.append([nums[i],nums[j],nums[k]])\n",
    "           \n",
    "        \n",
    "# print(final)    \n",
    "            \n",
    "[list(ele) for ele in list(set(tuple(sorted(x)) for x in final))]\n"
   ]
  },
  {
   "cell_type": "code",
   "execution_count": 41,
   "id": "0f84a95a",
   "metadata": {},
   "outputs": [
    {
     "ename": "TypeError",
     "evalue": "unhashable type: 'list'",
     "output_type": "error",
     "traceback": [
      "\u001b[1;31m---------------------------------------------------------------------------\u001b[0m",
      "\u001b[1;31mTypeError\u001b[0m                                 Traceback (most recent call last)",
      "\u001b[1;32m~\\AppData\\Local\\Temp/ipykernel_1344/1206098484.py\u001b[0m in \u001b[0;36m<module>\u001b[1;34m\u001b[0m\n\u001b[1;32m----> 1\u001b[1;33m \u001b[0mlist\u001b[0m\u001b[1;33m(\u001b[0m\u001b[0mset\u001b[0m\u001b[1;33m(\u001b[0m\u001b[0mlist\u001b[0m\u001b[1;33m(\u001b[0m\u001b[0msorted\u001b[0m\u001b[1;33m(\u001b[0m\u001b[0mx\u001b[0m\u001b[1;33m)\u001b[0m\u001b[1;33m)\u001b[0m \u001b[1;32mfor\u001b[0m \u001b[0mx\u001b[0m \u001b[1;32min\u001b[0m \u001b[0mfinal\u001b[0m\u001b[1;33m)\u001b[0m\u001b[1;33m)\u001b[0m\u001b[1;33m\u001b[0m\u001b[1;33m\u001b[0m\u001b[0m\n\u001b[0m",
      "\u001b[1;31mTypeError\u001b[0m: unhashable type: 'list'"
     ]
    }
   ],
   "source": [
    "\n",
    "[list(ele) for ele in list(set(tuple(sorted(x)) for x in final))]\n"
   ]
  },
  {
   "cell_type": "code",
   "execution_count": 12,
   "id": "c10f6d99",
   "metadata": {},
   "outputs": [],
   "source": [
    "dics={}\n",
    "dics['1,2,3']=1\n",
    "dics['2,2,3']=1"
   ]
  },
  {
   "cell_type": "code",
   "execution_count": 24,
   "id": "22fd74b6",
   "metadata": {},
   "outputs": [
    {
     "data": {
      "text/plain": [
       "[[1, 2, 3], [2, 2, 3]]"
      ]
     },
     "execution_count": 24,
     "metadata": {},
     "output_type": "execute_result"
    }
   ],
   "source": []
  },
  {
   "cell_type": "code",
   "execution_count": 18,
   "id": "e9b42dcc",
   "metadata": {},
   "outputs": [
    {
     "ename": "ValueError",
     "evalue": "not enough values to unpack (expected 3, got 1)",
     "output_type": "error",
     "traceback": [
      "\u001b[1;31m---------------------------------------------------------------------------\u001b[0m",
      "\u001b[1;31mValueError\u001b[0m                                Traceback (most recent call last)",
      "\u001b[1;32m~\\AppData\\Local\\Temp/ipykernel_1344/1660058570.py\u001b[0m in \u001b[0;36m<module>\u001b[1;34m\u001b[0m\n\u001b[1;32m----> 1\u001b[1;33m \u001b[1;32mfor\u001b[0m \u001b[0mi\u001b[0m\u001b[1;33m,\u001b[0m\u001b[0mj\u001b[0m\u001b[1;33m,\u001b[0m\u001b[0mk\u001b[0m \u001b[1;32min\u001b[0m \u001b[1;34m'1,2,3'\u001b[0m\u001b[1;33m.\u001b[0m\u001b[0msplit\u001b[0m\u001b[1;33m(\u001b[0m\u001b[1;34m','\u001b[0m\u001b[1;33m)\u001b[0m\u001b[1;33m:\u001b[0m\u001b[1;33m\u001b[0m\u001b[1;33m\u001b[0m\u001b[0m\n\u001b[0m\u001b[0;32m      2\u001b[0m     \u001b[0mprint\u001b[0m\u001b[1;33m(\u001b[0m\u001b[0mi\u001b[0m\u001b[1;33m,\u001b[0m\u001b[0mj\u001b[0m\u001b[1;33m,\u001b[0m\u001b[0mk\u001b[0m\u001b[1;33m)\u001b[0m\u001b[1;33m\u001b[0m\u001b[1;33m\u001b[0m\u001b[0m\n",
      "\u001b[1;31mValueError\u001b[0m: not enough values to unpack (expected 3, got 1)"
     ]
    }
   ],
   "source": [
    "for i,j,k in '1,2,3'.split(','):\n",
    "    print(i,j,k)"
   ]
  },
  {
   "cell_type": "code",
   "execution_count": 22,
   "id": "1efb795d",
   "metadata": {},
   "outputs": [
    {
     "name": "stdout",
     "output_type": "stream",
     "text": [
      "1 2 3\n"
     ]
    }
   ],
   "source": [
    "for i,j,k in ['1,2,3'.split(',')]:\n",
    "    print(i,j,k)\n",
    "    break"
   ]
  },
  {
   "cell_type": "code",
   "execution_count": null,
   "id": "467675ab",
   "metadata": {},
   "outputs": [],
   "source": []
  },
  {
   "cell_type": "code",
   "execution_count": null,
   "id": "96e73c64",
   "metadata": {},
   "outputs": [],
   "source": []
  },
  {
   "cell_type": "markdown",
   "id": "3889546f",
   "metadata": {},
   "source": [
    "# 4. Valid Parentheses\n",
    "\n",
    "https://leetcode.com/problems/valid-parentheses/"
   ]
  },
  {
   "cell_type": "code",
   "execution_count": 2,
   "id": "819122e0",
   "metadata": {},
   "outputs": [
    {
     "name": "stdout",
     "output_type": "stream",
     "text": [
      "'('\n",
      "')'\n"
     ]
    }
   ],
   "source": [
    "s = \"()\"\n",
    "\n",
    "temp = {'(':1,')':-1,'[':2,']':-2,'{':3,'}':-3}\n",
    "full_sum = []\n",
    "for i, val in enumerate(s):\n",
    "    full_sum.append()\n",
    "    \n",
    "    if full_sum != 0:\n",
    "        return False\n",
    "    return True"
   ]
  },
  {
   "cell_type": "code",
   "execution_count": null,
   "id": "e2b31f88",
   "metadata": {},
   "outputs": [],
   "source": []
  },
  {
   "cell_type": "code",
   "execution_count": 7,
   "id": "a5b28cc5",
   "metadata": {},
   "outputs": [
    {
     "data": {
      "text/plain": [
       "[1, 3]"
      ]
     },
     "execution_count": 7,
     "metadata": {},
     "output_type": "execute_result"
    }
   ],
   "source": [
    "lis1=[]\n",
    "lis1.append(1)\n",
    "lis1.append(3)\n",
    "lis1.append(5)\n",
    "lis1.pop()\n",
    "lis1"
   ]
  },
  {
   "cell_type": "code",
   "execution_count": null,
   "id": "d3eb6cf2",
   "metadata": {},
   "outputs": [],
   "source": []
  },
  {
   "cell_type": "code",
   "execution_count": null,
   "id": "c63b25c5",
   "metadata": {},
   "outputs": [],
   "source": []
  },
  {
   "cell_type": "code",
   "execution_count": null,
   "id": "736c0a00",
   "metadata": {},
   "outputs": [],
   "source": []
  },
  {
   "cell_type": "code",
   "execution_count": null,
   "id": "f08efd31",
   "metadata": {},
   "outputs": [],
   "source": []
  },
  {
   "cell_type": "code",
   "execution_count": null,
   "id": "af8ae479",
   "metadata": {},
   "outputs": [],
   "source": []
  }
 ],
 "metadata": {
  "kernelspec": {
   "display_name": "Python 3.10.9 64-bit",
   "language": "python",
   "name": "python3"
  },
  "language_info": {
   "codemirror_mode": {
    "name": "ipython",
    "version": 3
   },
   "file_extension": ".py",
   "mimetype": "text/x-python",
   "name": "python",
   "nbconvert_exporter": "python",
   "pygments_lexer": "ipython3",
   "version": "3.10.9"
  },
  "vscode": {
   "interpreter": {
    "hash": "da0a2cba9512daaf87b7131116f7b4dd1b0f6e96b173a2f70ae8ed175131cbf7"
   }
  }
 },
 "nbformat": 4,
 "nbformat_minor": 5
}
