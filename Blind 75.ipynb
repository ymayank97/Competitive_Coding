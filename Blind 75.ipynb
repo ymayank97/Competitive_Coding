{
 "cells": [
  {
   "cell_type": "markdown",
   "id": "c4eef760",
   "metadata": {},
   "source": [
    "> Solving blind 75 questions for amazon\n",
    "\n",
    "\n",
    "* https://www.techinterviewhandbook.org/grind75?order=topics\n",
    "\n",
    "* https://neetcode.io/practice"
   ]
  },
  {
   "cell_type": "markdown",
   "id": "9e7a7540",
   "metadata": {},
   "source": [
    "# 1. Contains Duplicate \n",
    "\n",
    "https://leetcode.com/problems/contains-duplicate/\n"
   ]
  },
  {
   "cell_type": "code",
   "execution_count": 7,
   "id": "c4e7b381",
   "metadata": {},
   "outputs": [
    {
     "name": "stdout",
     "output_type": "stream",
     "text": [
      "false\n"
     ]
    },
    {
     "data": {
      "text/plain": [
       "{1: 2, 2: 1, 3: 1}"
      ]
     },
     "execution_count": 7,
     "metadata": {},
     "output_type": "execute_result"
    }
   ],
   "source": [
    "nums=[1,2,3,1]\n",
    "dict1={}\n",
    "        \n",
    "for _,i in enumerate(nums):\n",
    "\n",
    "    if i in dict1.keys():\n",
    "        dict1[i]=dict1[i]+1\n",
    "        print('false')\n",
    "    else:\n",
    "        dict1[i]=1\n",
    "        \n",
    "dict1\n"
   ]
  },
  {
   "cell_type": "code",
   "execution_count": 5,
   "id": "09639507",
   "metadata": {},
   "outputs": [
    {
     "data": {
      "text/plain": [
       "True"
      ]
     },
     "execution_count": 5,
     "metadata": {},
     "output_type": "execute_result"
    }
   ],
   "source": [
    "### Simple Solution\n",
    "len(nums) != len(set(nums))"
   ]
  },
  {
   "cell_type": "markdown",
   "id": "50b5b38a",
   "metadata": {},
   "source": [
    "# 2. Valid Anagram\n",
    "\n",
    "https://leetcode.com/problems/valid-anagram/"
   ]
  },
  {
   "cell_type": "code",
   "execution_count": 4,
   "id": "5fca9768",
   "metadata": {},
   "outputs": [
    {
     "data": {
      "text/plain": [
       "True"
      ]
     },
     "execution_count": 4,
     "metadata": {},
     "output_type": "execute_result"
    }
   ],
   "source": [
    "s = \"nagaram\"\n",
    "t = \"anagram\"\n",
    "\n",
    "import collections\n",
    "\n",
    "k = collections.Counter(s)\n",
    "\n",
    "for i,j in enumerate(t): k[j]-=1\n",
    "    \n",
    "not any(k.values())"
   ]
  },
  {
   "cell_type": "markdown",
   "id": "d2068b31",
   "metadata": {},
   "source": [
    "###### Simple Solution\n",
    "> sorted uses Timsort which is a combination of insertion and merge sort"
   ]
  },
  {
   "cell_type": "code",
   "execution_count": 8,
   "id": "05446c61",
   "metadata": {},
   "outputs": [
    {
     "data": {
      "text/plain": [
       "True"
      ]
     },
     "execution_count": 8,
     "metadata": {},
     "output_type": "execute_result"
    }
   ],
   "source": [
    "sorted(s) == sorted(t)"
   ]
  },
  {
   "cell_type": "markdown",
   "id": "d4fda1c2",
   "metadata": {},
   "source": [
    "##### Optimized Solution"
   ]
  },
  {
   "cell_type": "code",
   "execution_count": 8,
   "id": "86917923",
   "metadata": {},
   "outputs": [
    {
     "data": {
      "text/plain": [
       "True"
      ]
     },
     "execution_count": 8,
     "metadata": {},
     "output_type": "execute_result"
    }
   ],
   "source": [
    "dict1={}\n",
    "dict2={}\n",
    "for _, j in enumerate(s):\n",
    "    dict1[j]=dict1.get(j,0)+1\n",
    "        \n",
    "for _, j in enumerate(t):\n",
    "    dict2[j]=dict2.get(j,0)+1\n",
    "    \n",
    "dict1==dict2"
   ]
  },
  {
   "cell_type": "markdown",
   "id": "53853548",
   "metadata": {},
   "source": [
    "# 3. Group Anagrams\n",
    "\n",
    "https://leetcode.com/problems/group-anagrams/"
   ]
  },
  {
   "cell_type": "code",
   "execution_count": 30,
   "id": "473a42cc",
   "metadata": {},
   "outputs": [
    {
     "data": {
      "text/plain": [
       "dict_values([['eat', 'tea', 'ate'], ['tan', 'nat'], ['bat']])"
      ]
     },
     "execution_count": 30,
     "metadata": {},
     "output_type": "execute_result"
    }
   ],
   "source": [
    "strs = [\"eat\",\"tea\",\"tan\",\"ate\",\"nat\",\"bat\"]\n",
    "\n",
    "k={}\n",
    "\n",
    "for _,i in enumerate(strs):\n",
    "    key=''.join(sorted(i))\n",
    "    k[key]=k.get(key,[])+[i]\n",
    "\n",
    "k.values()"
   ]
  },
  {
   "cell_type": "markdown",
   "id": "404846b9",
   "metadata": {},
   "source": [
    "# 4. Top K elements\n",
    "\n",
    "https://leetcode.com/problems/top-k-frequent-elements/"
   ]
  },
  {
   "cell_type": "code",
   "execution_count": 7,
   "id": "0f9ee615",
   "metadata": {},
   "outputs": [
    {
     "data": {
      "text/plain": [
       "[1, 2]"
      ]
     },
     "execution_count": 7,
     "metadata": {},
     "output_type": "execute_result"
    }
   ],
   "source": [
    "nums = [1,1,1,2,2,3]\n",
    "k = 2\n",
    "\n",
    "dic={}\n",
    "for i,j in enumerate(nums):\n",
    "    dic[j]= dic.get(j,0)+1\n",
    "\n",
    "dic =dict(sorted(dic.items(), key=lambda item: item[1], reverse = True))\n",
    "list(dic.keys())[:k]\n"
   ]
  },
  {
   "cell_type": "code",
   "execution_count": null,
   "id": "01264361",
   "metadata": {},
   "outputs": [],
   "source": [
    "# use heap when trying to find top k elements\n",
    "# ????????????????"
   ]
  },
  {
   "cell_type": "markdown",
   "id": "9b5af2c8",
   "metadata": {},
   "source": [
    "# 5. Product of Array except self\n",
    "\n",
    "https://leetcode.com/problems/\n"
   ]
  },
  {
   "cell_type": "code",
   "execution_count": 11,
   "id": "f6f9ad28",
   "metadata": {},
   "outputs": [
    {
     "data": {
      "text/plain": [
       "[24, 12, 8, 6]"
      ]
     },
     "execution_count": 11,
     "metadata": {},
     "output_type": "execute_result"
    }
   ],
   "source": [
    "nums = [1,2,3,4]\n",
    "\n",
    "prod= 1\n",
    "for i in nums:\n",
    "    prod*=i\n",
    "ans= []  \n",
    "for i in nums:\n",
    "    if i==0:\n",
    "        ans.append(prod)\n",
    "    else:\n",
    "        ans.append(prod//i)\n",
    "    \n",
    "ans"
   ]
  },
  {
   "cell_type": "markdown",
   "id": "a57f2ebb",
   "metadata": {},
   "source": [
    "#### Another Solution"
   ]
  },
  {
   "cell_type": "code",
   "execution_count": 22,
   "id": "c88c21f6",
   "metadata": {},
   "outputs": [
    {
     "name": "stdout",
     "output_type": "stream",
     "text": [
      "[1, 1, 2, 6]\n",
      "[24, 12, 8, 6]\n"
     ]
    }
   ],
   "source": [
    "nums = [1,2,3,4]\n",
    "# Output: [24,12,8,6]\n",
    "\n",
    "l=len(nums)\n",
    "\n",
    "res=[0]*l\n",
    "\n",
    "pre=1\n",
    "post=1\n",
    "\n",
    "for i,j in enumerate(nums):\n",
    "    res[i]=pre\n",
    "    pre=pre*j\n",
    "        \n",
    "for i in range(l-1,-1,-1):\n",
    "    res[i]*=post\n",
    "    post=post*nums[i]\n",
    "\n",
    "        \n",
    "print(res)"
   ]
  },
  {
   "cell_type": "markdown",
   "id": "35154373",
   "metadata": {},
   "source": [
    "# 6. Longest consecutive subsequence\n",
    "\n",
    "https://leetcode.com/problems/longest-consecutive-sequence/"
   ]
  },
  {
   "cell_type": "code",
   "execution_count": 57,
   "id": "ff717e21",
   "metadata": {},
   "outputs": [],
   "source": [
    "nums = [100,4,200,1,3,2]\n",
    "# nums = [0,3,7,2,5,8,4,6,0,1]\n",
    "nums = [1,2,0,1]"
   ]
  },
  {
   "cell_type": "code",
   "execution_count": 58,
   "id": "88534421",
   "metadata": {},
   "outputs": [
    {
     "name": "stdout",
     "output_type": "stream",
     "text": [
      "[0, 1, 2]\n"
     ]
    },
    {
     "data": {
      "text/plain": [
       "3"
      ]
     },
     "execution_count": 58,
     "metadata": {},
     "output_type": "execute_result"
    }
   ],
   "source": [
    "# O(nlog(n)) time complexity\n",
    "\n",
    "lent=1\n",
    "max_lent=0\n",
    "\n",
    "nums = sorted(set(nums))\n",
    "print(nums)\n",
    "\n",
    "for ind, val in enumerate(nums):\n",
    "    if ind+1 < len(nums) and val+1 == nums[ind+1]:\n",
    "        lent+=1\n",
    "    else:\n",
    "        lent=1\n",
    "        \n",
    "    if max_lent<lent:\n",
    "        max_lent=lent\n",
    "        \n",
    "max_lent"
   ]
  },
  {
   "cell_type": "code",
   "execution_count": 5,
   "id": "c7588255",
   "metadata": {},
   "outputs": [
    {
     "name": "stdout",
     "output_type": "stream",
     "text": [
      "[0, 1, 2]\n"
     ]
    },
    {
     "data": {
      "text/plain": [
       "3"
      ]
     },
     "execution_count": 5,
     "metadata": {},
     "output_type": "execute_result"
    }
   ],
   "source": [
    "# O(n) time complexity\n",
    "\n",
    "max_lent=0\n",
    "\n",
    "nums = list(set(nums))\n",
    "\n",
    "for ind, val in enumerate(nums):\n",
    "    if val - 1 not in nums:\n",
    "        y = val + 1\n",
    "        while y in nums:\n",
    "            y+=1\n",
    "        \n",
    "        max_lent = max(max_lent,y-val)\n",
    "        \n",
    "max_lent"
   ]
  },
  {
   "cell_type": "markdown",
   "id": "281ddc89",
   "metadata": {},
   "source": [
    "# 7. Valid Palindrome\n",
    "\n",
    "https://leetcode.com/problems/valid-palindrome/"
   ]
  },
  {
   "cell_type": "markdown",
   "id": "c627c1fa",
   "metadata": {},
   "source": [
    "> Two pointer in O(1) memory and O(n) time"
   ]
  },
  {
   "cell_type": "code",
   "execution_count": 13,
   "id": "408628f7",
   "metadata": {},
   "outputs": [],
   "source": [
    "# not O(1) memory solution\n",
    "import re\n",
    "def clean(s):\n",
    "    s = s.lower()\n",
    "    pat = re.findall(r'[A-Za-z0-9]*',s)\n",
    "    \n",
    "    pat = ''.join(i for i in pat)\n",
    "    return pat\n",
    "\n",
    "\n",
    "s = \"A man, a plan, a canal: Panama\"\n",
    "    \n",
    "s = clean(s)\n",
    "\n",
    "n=len(s)\n",
    "\n",
    "for i in range(n//2):\n",
    "    j=n-i-1\n",
    "    \n",
    "    if s[i]!=s[j]:\n",
    "        return False"
   ]
  },
  {
   "cell_type": "markdown",
   "id": "a8ec1b82",
   "metadata": {},
   "source": [
    "##### Optimized Solution"
   ]
  },
  {
   "cell_type": "code",
   "execution_count": 61,
   "id": "dc24dbd0",
   "metadata": {},
   "outputs": [
    {
     "name": "stdout",
     "output_type": "stream",
     "text": [
      "not a palindrome\n"
     ]
    }
   ],
   "source": [
    "s = \"A man, a plan, a caal: Panama\"\n",
    "\n",
    "l = 0\n",
    "r = len(s)-1\n",
    "flag = True\n",
    "while l<r:\n",
    "    \n",
    "    while l<r and not s[l].isalnum():\n",
    "        l+=1\n",
    "        \n",
    "    while l<r and not s[r].isalnum():\n",
    "        r-=1\n",
    "        \n",
    "    if s[l].lower()==s[r].lower():\n",
    "        \n",
    "        l+=1\n",
    "        r-=1\n",
    "        \n",
    "    else:\n",
    "        print('not a palindrome')\n",
    "        flag=False\n",
    "        break\n",
    "if flag:\n",
    "    print('palindrome')"
   ]
  },
  {
   "cell_type": "markdown",
   "id": "8ce64453",
   "metadata": {},
   "source": [
    "# 8. 2 Sum \n",
    "\n",
    "https://leetcode.com/problems/two-sum/"
   ]
  },
  {
   "cell_type": "code",
   "execution_count": 27,
   "id": "5269c547",
   "metadata": {},
   "outputs": [
    {
     "name": "stdout",
     "output_type": "stream",
     "text": [
      "[1, 0]\n",
      "total time  0.0\n"
     ]
    }
   ],
   "source": [
    "from time import time\n",
    "\n",
    "nums = [2,7,11,15]\n",
    "target = 9\n",
    "\n",
    "start = time()\n",
    "\n",
    "dic = {}\n",
    "for i , ele in enumerate(nums):\n",
    "    if target - ele in dic.keys():\n",
    "        print([i,dic[target-ele]])\n",
    "        break\n",
    "    else:\n",
    "        dic[ele] = i\n",
    "        \n",
    "        \n",
    "        \n",
    "end = time()\n",
    "print(\"total time \", end - start)"
   ]
  },
  {
   "cell_type": "markdown",
   "id": "9b1d1121",
   "metadata": {},
   "source": [
    "# 9. 2 SUM -II (Sorted Araay)\n",
    "https://leetcode.com/problems/two-sum-ii-input-array-is-sorted/"
   ]
  },
  {
   "cell_type": "code",
   "execution_count": 28,
   "id": "3ed3bf7a",
   "metadata": {},
   "outputs": [
    {
     "name": "stdout",
     "output_type": "stream",
     "text": [
      "[0, 1]\n"
     ]
    }
   ],
   "source": [
    "numbers = [2,7,11,15]\n",
    "target = 9\n",
    "\n",
    "\n",
    "left = 0\n",
    "right = len(numbers)-1\n",
    "\n",
    "while left < right:\n",
    "    sum = numbers[left] + numbers[right]\n",
    "    if sum == target:\n",
    "        print([left, right])\n",
    "        break\n",
    "    elif sum>target:\n",
    "        right-=1\n",
    "    else:\n",
    "        left+=1\n"
   ]
  },
  {
   "cell_type": "markdown",
   "id": "1f063e5b",
   "metadata": {},
   "source": [
    "# 10. 3 Sum\n",
    "\n",
    "https://leetcode.com/problems/3sum/"
   ]
  },
  {
   "cell_type": "code",
   "execution_count": 32,
   "id": "f8a69ae4",
   "metadata": {},
   "outputs": [],
   "source": [
    "# nums = [-1,0,1,2,-1,-4]\n",
    "nums =[0,0,0]\n",
    "nums = [-2,0,1,1,2]\n",
    "nums = [-1,0,1,2,-1,-4]"
   ]
  },
  {
   "cell_type": "code",
   "execution_count": 33,
   "id": "65e426d1",
   "metadata": {},
   "outputs": [],
   "source": [
    "#### O(N^2 * log M) approach\n",
    "\n",
    "dic = {}\n",
    "for i,ele in enumerate(nums):\n",
    "    dic[ele] =  dic.get(ele,0)+1\n",
    "    \n",
    "res= set()\n",
    "for i in range(len(nums)):\n",
    "    dic[nums[i]] = dic.get(nums[i])-1\n",
    "    for j in range(len(nums)):\n",
    "        dic[nums[j]] = dic.get(nums[j])-1\n",
    "        \n",
    "        c = -(nums[i]+nums[j])\n",
    "        \n",
    "        if c in dic and dic.get(c) > 0  and i!=j:\n",
    "            res.add(tuple(sorted((nums[i],nums[j], -(nums[i]+nums[j])))))\n",
    "        dic[nums[j]] = dic.get(nums[j])+1\n",
    "    dic[nums[i]] = dic.get(nums[i])+1\n",
    "    \n",
    "res"
   ]
  },
  {
   "cell_type": "markdown",
   "id": "b10ba485",
   "metadata": {},
   "source": [
    "#### Optimized Solution"
   ]
  },
  {
   "cell_type": "code",
   "execution_count": 55,
   "id": "467675ab",
   "metadata": {},
   "outputs": [
    {
     "name": "stdout",
     "output_type": "stream",
     "text": [
      "[[-1, 2, -1], [0, 1, -1]]\n"
     ]
    }
   ],
   "source": [
    "### O(N^2) time and O(1) space auxillary space = O(M) length of solution list\n",
    "res = []\n",
    "\n",
    "nums.sort()\n",
    "\n",
    "for i in range(len(nums)-2):\n",
    "    \n",
    "    left = i+1\n",
    "    right = len(nums)-1\n",
    "    \n",
    "    if i==0 or (i>0 and nums[i]!=nums[i-1]):\n",
    "        \n",
    "        target = 0 - nums[i]\n",
    "        \n",
    "        while left < right:\n",
    "            temp_sum = nums[left]+nums[right]\n",
    "            if temp_sum == target:\n",
    "                res.append([nums[left],nums[right],nums[i]])\n",
    "                \n",
    "                while left< right and nums[left]==nums[left+1]:\n",
    "                    left+=1\n",
    "                    \n",
    "                while left< right and nums[right]==nums[right-1]:\n",
    "                    right-=1\n",
    "                \n",
    "                left+=1\n",
    "                right-=1\n",
    "                \n",
    "            elif temp_sum > target:\n",
    "                right-=1\n",
    "                \n",
    "            else:\n",
    "                left+=1\n",
    "                    \n",
    "print(res)\n"
   ]
  },
  {
   "cell_type": "markdown",
   "id": "3889546f",
   "metadata": {},
   "source": [
    "# 11. Valid Parentheses\n",
    "\n",
    "https://leetcode.com/problems/valid-parentheses/"
   ]
  },
  {
   "cell_type": "markdown",
   "id": "351ce89d",
   "metadata": {},
   "source": [
    "**Stack :**\n",
    " * Push and Pop operation is O(1)\n",
    "    \n",
    "**Space and Time Complexity:**\n",
    " * Time complexity : O(N)\n",
    " * Space complexity : O(N)"
   ]
  },
  {
   "cell_type": "code",
   "execution_count": 56,
   "id": "a5b28cc5",
   "metadata": {},
   "outputs": [
    {
     "name": "stdout",
     "output_type": "stream",
     "text": [
      "True\n"
     ]
    }
   ],
   "source": [
    "s = \"()[]{}\"\n",
    "\n",
    "stack = []\n",
    "dict = {\"]\":\"[\", \"}\":\"{\", \")\":\"(\"}\n",
    "for char in s:\n",
    "    if char in dict.values():\n",
    "        stack.append(char)\n",
    "    elif char in dict.keys():\n",
    "        if stack == [] or dict[char] != stack.pop():\n",
    "            print(False)\n",
    "    else:\n",
    "        print(False)\n",
    "print(stack == [])"
   ]
  },
  {
   "cell_type": "markdown",
   "id": "1e851a19",
   "metadata": {},
   "source": [
    "## 12. Best Time to Buy and Sell Stock\n",
    "\n",
    "https://leetcode.com/problems/best-time-to-buy-and-sell-stock/\n"
   ]
  },
  {
   "cell_type": "markdown",
   "id": "e0fc96d7",
   "metadata": {},
   "source": [
    "#### Kadane's algorithm"
   ]
  },
  {
   "cell_type": "code",
   "execution_count": 20,
   "id": "c63b25c5",
   "metadata": {},
   "outputs": [
    {
     "name": "stdout",
     "output_type": "stream",
     "text": [
      "25\n"
     ]
    }
   ],
   "source": [
    "# Maximum subarray sum\n",
    "\n",
    "list1 = [2,-3,4,5,6,-7,8,9]\n",
    "\n",
    "max_sum = list1[0]\n",
    "curr_sum = 0\n",
    "\n",
    "for i,ele in enumerate(list1):\n",
    "    curr_sum+=ele\n",
    "    \n",
    "    if curr_sum > max_sum:\n",
    "        max_sum = curr_sum\n",
    "        \n",
    "    if curr_sum < 0 :\n",
    "        curr_sum = 0\n",
    "        \n",
    "print(max_sum)\n",
    "\n"
   ]
  },
  {
   "cell_type": "markdown",
   "id": "c87a378d",
   "metadata": {},
   "source": [
    "#### Important solution using kadane's algo"
   ]
  },
  {
   "cell_type": "code",
   "execution_count": 24,
   "id": "736c0a00",
   "metadata": {},
   "outputs": [
    {
     "data": {
      "text/plain": [
       "5"
      ]
     },
     "execution_count": 24,
     "metadata": {},
     "output_type": "execute_result"
    }
   ],
   "source": [
    "prices = [7,1,5,3,6,4]\n",
    "\n",
    "def maxProfit( prices):\n",
    "        if len(prices) <2:\n",
    "            return 0\n",
    "        max_sum = prices[1]-prices[0]\n",
    "        curr_sum = 0\n",
    "\n",
    "        for i in range(len(prices)-1):\n",
    "            curr_sum = curr_sum + (prices[i+1]-prices[i])\n",
    "            \n",
    "            if curr_sum > max_sum:\n",
    "                max_sum = curr_sum\n",
    "            if curr_sum < 0:\n",
    "                curr_sum = 0\n",
    "        if max_sum < 0:\n",
    "            max_sum = 0\n",
    "                \n",
    "        return max_sum\n",
    "    \n",
    "maxProfit(prices)"
   ]
  },
  {
   "cell_type": "markdown",
   "id": "2ddb9952",
   "metadata": {},
   "source": [
    "###### Simple solution"
   ]
  },
  {
   "cell_type": "code",
   "execution_count": 26,
   "id": "f08efd31",
   "metadata": {},
   "outputs": [
    {
     "data": {
      "text/plain": [
       "5"
      ]
     },
     "execution_count": 26,
     "metadata": {},
     "output_type": "execute_result"
    }
   ],
   "source": [
    "import sys\n",
    "buy = sys.maxsize\n",
    "sell = 0\n",
    "for i in range(len(prices)):\n",
    "    buy  = min(buy, prices[i])\n",
    "    sell = max(sell, prices[i]-buy)\n",
    "    \n",
    "sell"
   ]
  },
  {
   "cell_type": "code",
   "execution_count": null,
   "id": "af8ae479",
   "metadata": {},
   "outputs": [],
   "source": []
  },
  {
   "cell_type": "code",
   "execution_count": null,
   "id": "9de1238c",
   "metadata": {},
   "outputs": [],
   "source": []
  },
  {
   "cell_type": "code",
   "execution_count": null,
   "id": "fbae4474",
   "metadata": {},
   "outputs": [],
   "source": []
  },
  {
   "cell_type": "code",
   "execution_count": null,
   "id": "97847f0f",
   "metadata": {},
   "outputs": [],
   "source": []
  },
  {
   "cell_type": "code",
   "execution_count": null,
   "id": "734f36fc",
   "metadata": {},
   "outputs": [],
   "source": []
  },
  {
   "cell_type": "code",
   "execution_count": null,
   "id": "7e88426f",
   "metadata": {},
   "outputs": [],
   "source": []
  }
 ],
 "metadata": {
  "kernelspec": {
   "display_name": "Python 3 (ipykernel)",
   "language": "python",
   "name": "python3"
  },
  "language_info": {
   "codemirror_mode": {
    "name": "ipython",
    "version": 3
   },
   "file_extension": ".py",
   "mimetype": "text/x-python",
   "name": "python",
   "nbconvert_exporter": "python",
   "pygments_lexer": "ipython3",
   "version": "3.10.9"
  },
  "vscode": {
   "interpreter": {
    "hash": "da0a2cba9512daaf87b7131116f7b4dd1b0f6e96b173a2f70ae8ed175131cbf7"
   }
  }
 },
 "nbformat": 4,
 "nbformat_minor": 5
}
