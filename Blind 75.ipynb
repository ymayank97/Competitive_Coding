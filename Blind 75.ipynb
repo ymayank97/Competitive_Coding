{
 "cells": [
  {
   "cell_type": "code",
   "execution_count": null,
   "id": "bd1273d2",
   "metadata": {},
   "outputs": [],
   "source": []
  },
  {
   "cell_type": "code",
   "execution_count": null,
   "id": "890ff756",
   "metadata": {},
   "outputs": [],
   "source": []
  },
  {
   "cell_type": "code",
   "execution_count": null,
   "id": "6e6c3fbc",
   "metadata": {},
   "outputs": [],
   "source": []
  },
  {
   "cell_type": "markdown",
   "id": "9e7a7540",
   "metadata": {},
   "source": [
    "# 1. Contains Duplicate \n",
    "\n",
    "https://leetcode.com/problems/contains-duplicate/\n"
   ]
  },
  {
   "cell_type": "code",
   "execution_count": 6,
   "id": "059e51b6",
   "metadata": {},
   "outputs": [],
   "source": [
    "nums=[1,2,3,1]"
   ]
  },
  {
   "cell_type": "code",
   "execution_count": 7,
   "id": "c4e7b381",
   "metadata": {},
   "outputs": [
    {
     "name": "stdout",
     "output_type": "stream",
     "text": [
      "false\n"
     ]
    },
    {
     "data": {
      "text/plain": [
       "{1: 2, 2: 1, 3: 1}"
      ]
     },
     "execution_count": 7,
     "metadata": {},
     "output_type": "execute_result"
    }
   ],
   "source": [
    "dict1={}\n",
    "        \n",
    "for _,i in enumerate(nums):\n",
    "\n",
    "    if i in dict1.keys():\n",
    "        dict1[i]=dict1[i]+1\n",
    "        print('false')\n",
    "    else:\n",
    "        dict1[i]=1\n",
    "        \n",
    "dict1\n"
   ]
  },
  {
   "cell_type": "code",
   "execution_count": 5,
   "id": "09639507",
   "metadata": {},
   "outputs": [
    {
     "data": {
      "text/plain": [
       "True"
      ]
     },
     "execution_count": 5,
     "metadata": {},
     "output_type": "execute_result"
    }
   ],
   "source": [
    "len(nums) != len(set(nums))"
   ]
  },
  {
   "cell_type": "code",
   "execution_count": null,
   "id": "148d9850",
   "metadata": {},
   "outputs": [],
   "source": []
  },
  {
   "cell_type": "markdown",
   "id": "50b5b38a",
   "metadata": {},
   "source": [
    "# 2. Valid Anagram\n",
    "\n",
    "https://leetcode.com/problems/valid-anagram/"
   ]
  },
  {
   "cell_type": "code",
   "execution_count": 1,
   "id": "d51de697",
   "metadata": {},
   "outputs": [],
   "source": [
    "s = \"nagaram\"\n",
    "t = \"anagram\""
   ]
  },
  {
   "cell_type": "code",
   "execution_count": 13,
   "id": "5fca9768",
   "metadata": {},
   "outputs": [
    {
     "data": {
      "text/plain": [
       "True"
      ]
     },
     "execution_count": 13,
     "metadata": {},
     "output_type": "execute_result"
    }
   ],
   "source": [
    "import collections\n",
    "\n",
    "k = collections.Counter(s)\n",
    "\n",
    "for i,j in enumerate(t): k[j]-=1\n",
    "    \n",
    "not any(k.values())"
   ]
  },
  {
   "cell_type": "code",
   "execution_count": 20,
   "id": "dd42c03a",
   "metadata": {},
   "outputs": [
    {
     "data": {
      "text/plain": [
       "False"
      ]
     },
     "execution_count": 20,
     "metadata": {},
     "output_type": "execute_result"
    }
   ],
   "source": [
    "all([1,0,1,1])"
   ]
  },
  {
   "cell_type": "code",
   "execution_count": null,
   "id": "05446c61",
   "metadata": {},
   "outputs": [],
   "source": [
    "sorted(s) == sorted(t)"
   ]
  },
  {
   "cell_type": "code",
   "execution_count": 8,
   "id": "86917923",
   "metadata": {},
   "outputs": [
    {
     "data": {
      "text/plain": [
       "True"
      ]
     },
     "execution_count": 8,
     "metadata": {},
     "output_type": "execute_result"
    }
   ],
   "source": [
    "dict1={}\n",
    "dict2={}\n",
    "for _, j in enumerate(s):\n",
    "    dict1[j]=dict1.get(j,0)+1\n",
    "        \n",
    "for _, j in enumerate(t):\n",
    "    dict2[j]=dict2.get(j,0)+1\n",
    "    \n",
    "dict1==dict2"
   ]
  },
  {
   "cell_type": "code",
   "execution_count": null,
   "id": "62c28687",
   "metadata": {},
   "outputs": [],
   "source": []
  },
  {
   "cell_type": "markdown",
   "id": "53853548",
   "metadata": {},
   "source": [
    "# 3. Group Anagrams\n",
    "\n",
    "https://leetcode.com/problems/group-anagrams/"
   ]
  },
  {
   "cell_type": "code",
   "execution_count": 30,
   "id": "473a42cc",
   "metadata": {},
   "outputs": [
    {
     "data": {
      "text/plain": [
       "dict_values([['eat', 'tea', 'ate'], ['tan', 'nat'], ['bat']])"
      ]
     },
     "execution_count": 30,
     "metadata": {},
     "output_type": "execute_result"
    }
   ],
   "source": [
    "strs = [\"eat\",\"tea\",\"tan\",\"ate\",\"nat\",\"bat\"]\n",
    "\n",
    "k={}\n",
    "\n",
    "for _,i in enumerate(strs):\n",
    "    key=''.join(sorted(i))\n",
    "    k[key]=k.get(key,[])+[i]\n",
    "\n",
    "k.values()"
   ]
  },
  {
   "cell_type": "code",
   "execution_count": null,
   "id": "20cdbb48",
   "metadata": {},
   "outputs": [],
   "source": []
  },
  {
   "cell_type": "markdown",
   "id": "404846b9",
   "metadata": {},
   "source": [
    "# 4. Top K elements\n",
    "\n",
    "https://leetcode.com/problems/top-k-frequent-elements/"
   ]
  },
  {
   "cell_type": "code",
   "execution_count": 53,
   "id": "0f9ee615",
   "metadata": {},
   "outputs": [
    {
     "data": {
      "text/plain": [
       "{1: 3, 2: 2, 3: 1}"
      ]
     },
     "execution_count": 53,
     "metadata": {},
     "output_type": "execute_result"
    }
   ],
   "source": [
    "nums = [1,1,1,2,2,3]\n",
    "k = 2\n",
    "\n",
    "dic={}\n",
    "for i,j in enumerate(nums):\n",
    "    dic[j]= dic.get(j,0)+1\n",
    "\n",
    "dic =dict(sorted(dic.items(), key=lambda item: item[1], reverse = True))\n",
    "list(dic.keys())[:k]\n"
   ]
  },
  {
   "cell_type": "code",
   "execution_count": null,
   "id": "01264361",
   "metadata": {},
   "outputs": [],
   "source": [
    "# use heap when trying to find top k elements"
   ]
  },
  {
   "cell_type": "markdown",
   "id": "9b5af2c8",
   "metadata": {},
   "source": [
    "# 5. Product of Array except self\n",
    "\n",
    "https://leetcode.com/problems/top-k-frequent-elements/\n"
   ]
  },
  {
   "cell_type": "code",
   "execution_count": null,
   "id": "23340dec",
   "metadata": {},
   "outputs": [],
   "source": []
  },
  {
   "cell_type": "code",
   "execution_count": 58,
   "id": "f6f9ad28",
   "metadata": {},
   "outputs": [
    {
     "data": {
      "text/plain": [
       "[24, 12, 8, 6]"
      ]
     },
     "execution_count": 58,
     "metadata": {},
     "output_type": "execute_result"
    }
   ],
   "source": [
    "nums = [1,2,3,4]\n",
    "\n",
    "prod= 16j\n",
    "for i in nums:\n",
    "    prod*=i\n",
    "ans= []  \n",
    "for i in nums:\n",
    "    if i==0:\n",
    "        ans.append(prod)\n",
    "    else:\n",
    "        ans.append(prod//i)\n",
    "    \n",
    "ans"
   ]
  },
  {
   "cell_type": "code",
   "execution_count": null,
   "id": "15659066",
   "metadata": {},
   "outputs": [],
   "source": []
  },
  {
   "cell_type": "code",
   "execution_count": null,
   "id": "c88c21f6",
   "metadata": {},
   "outputs": [],
   "source": []
  },
  {
   "cell_type": "code",
   "execution_count": null,
   "id": "9176ca67",
   "metadata": {},
   "outputs": [],
   "source": []
  }
 ],
 "metadata": {
  "kernelspec": {
   "display_name": "Python 3 (ipykernel)",
   "language": "python",
   "name": "python3"
  },
  "language_info": {
   "codemirror_mode": {
    "name": "ipython",
    "version": 3
   },
   "file_extension": ".py",
   "mimetype": "text/x-python",
   "name": "python",
   "nbconvert_exporter": "python",
   "pygments_lexer": "ipython3",
   "version": "3.10.1"
  }
 },
 "nbformat": 4,
 "nbformat_minor": 5
}
