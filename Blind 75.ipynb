{
 "cells": [
  {
   "cell_type": "markdown",
   "id": "a3d0b20e",
   "metadata": {},
   "source": [
    "# PREPARE FOR TECHNICAL INTERVIEWS\n",
    "\n",
    "<b> 1. Valuable information </b>\n",
    "    * "
   ]
  },
  {
   "cell_type": "markdown",
   "id": "03cf21bf",
   "metadata": {},
   "source": [
    "### Steps before completing a question\n",
    "\n",
    "* Read the problem statement -  5mins\n",
    "* <b> Ask and write Clarifying questions </b> - 5 mins , come up with 3 edge cases , Try to whisper these questions and answers.\n",
    "* Solve on paper - 20 mins\n",
    "* Write time and space complexity\n",
    "* study the solution and try to improve - 10 mins\n",
    "* Add to the list and revisit the solution again after 3 days\n",
    "\n",
    "\n"
   ]
  },
  {
   "cell_type": "markdown",
   "id": "c4eef760",
   "metadata": {},
   "source": [
    "> Solving blind 75 questions for amazon\n",
    "\n",
    "\n",
    "* https://www.techinterviewhandbook.org/grind75?order=topics\n",
    "\n",
    "* https://neetcode.io/practice"
   ]
  },
  {
   "cell_type": "markdown",
   "id": "9e7a7540",
   "metadata": {},
   "source": [
    "# 1. Contains Duplicate \n",
    "\n",
    "https://leetcode.com/problems/contains-duplicate/\n"
   ]
  },
  {
   "cell_type": "code",
   "execution_count": 1,
   "id": "c4e7b381",
   "metadata": {},
   "outputs": [
    {
     "name": "stdout",
     "output_type": "stream",
     "text": [
      "false\n"
     ]
    },
    {
     "data": {
      "text/plain": [
       "{1: 2, 2: 1, 3: 1}"
      ]
     },
     "execution_count": 1,
     "metadata": {},
     "output_type": "execute_result"
    }
   ],
   "source": [
    "nums=[1,2,3,1]\n",
    "dict1={}\n",
    "        \n",
    "for _,i in enumerate(nums):\n",
    "\n",
    "    if dict1.get(i):\n",
    "        dict1[i]=dict1[i]+1\n",
    "        print('false')\n",
    "        break\n",
    "    else:\n",
    "        dict1[i]=1\n",
    "        \n",
    "dict1\n"
   ]
  },
  {
   "cell_type": "code",
   "execution_count": 5,
   "id": "09639507",
   "metadata": {},
   "outputs": [
    {
     "data": {
      "text/plain": [
       "True"
      ]
     },
     "execution_count": 5,
     "metadata": {},
     "output_type": "execute_result"
    }
   ],
   "source": [
    "### Simple Solution\n",
    "len(nums) != len(set(nums))"
   ]
  },
  {
   "cell_type": "markdown",
   "id": "50b5b38a",
   "metadata": {},
   "source": [
    "# 2. Valid Anagram\n",
    "\n",
    "https://leetcode.com/problems/valid-anagram/"
   ]
  },
  {
   "cell_type": "code",
   "execution_count": 4,
   "id": "5fca9768",
   "metadata": {},
   "outputs": [
    {
     "data": {
      "text/plain": [
       "True"
      ]
     },
     "execution_count": 4,
     "metadata": {},
     "output_type": "execute_result"
    }
   ],
   "source": [
    "s = \"nagaram\"\n",
    "t = \"anagram\"\n",
    "\n",
    "import collections\n",
    "\n",
    "k = collections.Counter(s)\n",
    "\n",
    "for i,j in enumerate(t): k[j]-=1\n",
    "    \n",
    "not any(k.values())"
   ]
  },
  {
   "cell_type": "markdown",
   "id": "d2068b31",
   "metadata": {},
   "source": [
    "###### Simple Solution\n",
    "> sorted uses Timsort which is a combination of insertion and merge sort"
   ]
  },
  {
   "cell_type": "code",
   "execution_count": 8,
   "id": "05446c61",
   "metadata": {},
   "outputs": [
    {
     "data": {
      "text/plain": [
       "True"
      ]
     },
     "execution_count": 8,
     "metadata": {},
     "output_type": "execute_result"
    }
   ],
   "source": [
    "sorted(s) == sorted(t)"
   ]
  },
  {
   "cell_type": "markdown",
   "id": "2bee6e64",
   "metadata": {},
   "source": [
    "##### Optimized Solution"
   ]
  },
  {
   "cell_type": "code",
   "execution_count": 8,
   "id": "86917923",
   "metadata": {},
   "outputs": [
    {
     "data": {
      "text/plain": [
       "True"
      ]
     },
     "execution_count": 8,
     "metadata": {},
     "output_type": "execute_result"
    }
   ],
   "source": [
    "dict1={}\n",
    "dict2={}\n",
    "for _, j in enumerate(s):\n",
    "    dict1[j]=dict1.get(j,0)+1\n",
    "        \n",
    "for _, j in enumerate(t):\n",
    "    dict2[j]=dict2.get(j,0)+1\n",
    "    \n",
    "dict1==dict2"
   ]
  },
  {
   "cell_type": "markdown",
   "id": "53853548",
   "metadata": {},
   "source": [
    "# 3. Group Anagrams\n",
    "\n",
    "https://leetcode.com/problems/group-anagrams/\n",
    "\n",
    "\n",
    "* Remember sorted for string return array of chars, join before use"
   ]
  },
  {
   "cell_type": "code",
   "execution_count": 2,
   "id": "473a42cc",
   "metadata": {},
   "outputs": [
    {
     "data": {
      "text/plain": [
       "dict_values([['eat', 'tea', 'ate'], ['tan', 'nat'], ['bat']])"
      ]
     },
     "execution_count": 2,
     "metadata": {},
     "output_type": "execute_result"
    }
   ],
   "source": [
    "strs = [\"eat\",\"tea\",\"tan\",\"ate\",\"nat\",\"bat\"]\n",
    "\n",
    "k={}\n",
    "\n",
    "for _,i in enumerate(strs):\n",
    "    key=''.join(sorted(i))\n",
    "    k[key]=k.get(key,[])+[i]\n",
    "\n",
    "k.values()"
   ]
  },
  {
   "cell_type": "markdown",
   "id": "404846b9",
   "metadata": {},
   "source": [
    "# 4. Top K elements\n",
    "\n",
    "https://leetcode.com/problems/top-k-frequent-elements/\n",
    "\n",
    "\n",
    "* remember sorted for dic returns tuple, data type conversion to dict"
   ]
  },
  {
   "cell_type": "code",
   "execution_count": 7,
   "id": "0f9ee615",
   "metadata": {},
   "outputs": [
    {
     "data": {
      "text/plain": [
       "[1, 2]"
      ]
     },
     "execution_count": 7,
     "metadata": {},
     "output_type": "execute_result"
    }
   ],
   "source": [
    "nums = [1,1,1,2,2,3]\n",
    "k = 2\n",
    "\n",
    "dic={}\n",
    "for i,j in enumerate(nums):\n",
    "    dic[j]= dic.get(j,0)+1\n",
    "\n",
    "dic =dict(sorted(dic.items(), key=lambda item: item[1], reverse = True))\n",
    "list(dic.keys())[:k]\n"
   ]
  },
  {
   "cell_type": "code",
   "execution_count": null,
   "id": "01264361",
   "metadata": {},
   "outputs": [],
   "source": [
    "# use heap when trying to find top k elements\n",
    "# ????????????????"
   ]
  },
  {
   "cell_type": "markdown",
   "id": "9b5af2c8",
   "metadata": {},
   "source": [
    "# 5. Product of Array except self\n",
    "\n",
    "https://leetcode.com/problems/product-of-array-except-self/\n"
   ]
  },
  {
   "cell_type": "code",
   "execution_count": 74,
   "id": "c88c21f6",
   "metadata": {},
   "outputs": [
    {
     "name": "stdout",
     "output_type": "stream",
     "text": [
      "[24, 12, 8, 6]\n"
     ]
    }
   ],
   "source": [
    "nums = [1,2,3,4]\n",
    "# Output: [24,12,8,6]\n",
    "\n",
    "size = len(nums)\n",
    "pre = 1\n",
    "post = 1\n",
    "res=[1]*size\n",
    "\n",
    "for i in range(size):\n",
    "    res[i]*=pre\n",
    "    pre*=nums[i]\n",
    "\n",
    "for i in range(size):\n",
    "    res[size-i-1]*=post\n",
    "    post*=nums[size-i-1]\n",
    "       \n",
    "print(res)"
   ]
  },
  {
   "cell_type": "markdown",
   "id": "35154373",
   "metadata": {},
   "source": [
    "**revise**\n",
    "\n",
    "# 6. Longest consecutive subsequence\n",
    "\n",
    "https://leetcode.com/problems/longest-consecutive-sequence/\n",
    "\n",
    "* remove repeated elements using set and check if preceding number present in the list, then increment a value until val+1 is present in the list"
   ]
  },
  {
   "cell_type": "code",
   "execution_count": 57,
   "id": "ff717e21",
   "metadata": {},
   "outputs": [],
   "source": [
    "nums = [100,4,200,1,3,2]\n",
    "# nums = [0,3,7,2,5,8,4,6,0,1]\n",
    "nums = [1,2,0,1]"
   ]
  },
  {
   "cell_type": "code",
   "execution_count": 58,
   "id": "88534421",
   "metadata": {},
   "outputs": [
    {
     "name": "stdout",
     "output_type": "stream",
     "text": [
      "[0, 1, 2]\n"
     ]
    },
    {
     "data": {
      "text/plain": [
       "3"
      ]
     },
     "execution_count": 58,
     "metadata": {},
     "output_type": "execute_result"
    }
   ],
   "source": [
    "# O(nlog(n)) time complexity\n",
    "\n",
    "lent=1\n",
    "max_lent=0\n",
    "\n",
    "nums = sorted(set(nums))\n",
    "print(nums)\n",
    "\n",
    "for ind, val in enumerate(nums):\n",
    "    if ind+1 < len(nums) and val+1 == nums[ind+1]:\n",
    "        lent+=1\n",
    "    else:\n",
    "        lent=1\n",
    "        \n",
    "    if max_lent<lent:\n",
    "        max_lent=lent\n",
    "        \n",
    "max_lent"
   ]
  },
  {
   "cell_type": "code",
   "execution_count": 5,
   "id": "c7588255",
   "metadata": {},
   "outputs": [
    {
     "name": "stdout",
     "output_type": "stream",
     "text": [
      "[0, 1, 2]\n"
     ]
    },
    {
     "data": {
      "text/plain": [
       "3"
      ]
     },
     "execution_count": 5,
     "metadata": {},
     "output_type": "execute_result"
    }
   ],
   "source": [
    "# O(n) time complexity\n",
    "\n",
    "max_lent=0\n",
    "\n",
    "nums = set(nums)\n",
    "\n",
    "for val in nums:\n",
    "    if val - 1 not in nums:\n",
    "        y = val + 1\n",
    "        while y in nums:\n",
    "            y+=1\n",
    "        max_lent = max(max_lent,y-val)\n",
    "return max_lent"
   ]
  },
  {
   "cell_type": "markdown",
   "id": "281ddc89",
   "metadata": {},
   "source": [
    "# 7. Valid Palindrome\n",
    "\n",
    "https://leetcode.com/problems/valid-palindrome/"
   ]
  },
  {
   "cell_type": "markdown",
   "id": "c627c1fa",
   "metadata": {},
   "source": [
    "> Two pointer in O(1) memory and O(n) time"
   ]
  },
  {
   "cell_type": "code",
   "execution_count": 13,
   "id": "408628f7",
   "metadata": {},
   "outputs": [],
   "source": [
    "# not O(1) memory solution\n",
    "import re\n",
    "def clean(s):\n",
    "    s = s.lower()\n",
    "    pat = re.findall(r'[A-Za-z0-9]*',s)\n",
    "    \n",
    "    pat = ''.join(i for i in pat)\n",
    "    return pat\n",
    "\n",
    "\n",
    "s = \"A man, a plan, a canal: Panama\"\n",
    "    \n",
    "s = clean(s)\n",
    "\n",
    "n=len(s)\n",
    "\n",
    "for i in range(n//2):\n",
    "    j=n-i-1\n",
    "    \n",
    "    if s[i]!=s[j]:\n",
    "        return False"
   ]
  },
  {
   "cell_type": "markdown",
   "id": "952ecdbb",
   "metadata": {},
   "source": [
    "##### Optimized Solution"
   ]
  },
  {
   "cell_type": "code",
   "execution_count": 61,
   "id": "dc24dbd0",
   "metadata": {},
   "outputs": [
    {
     "name": "stdout",
     "output_type": "stream",
     "text": [
      "not a palindrome\n"
     ]
    }
   ],
   "source": [
    "s = \"A man, a plan, a caal: Panama\"\n",
    "l=0\n",
    "e=len(s)-1\n",
    "\n",
    "while l<e:\n",
    "\n",
    "    if not s[l].isalnum():\n",
    "        l+=1\n",
    "    elif not s[e].isalnum():\n",
    "        e-=1\n",
    "    elif  s[l].lower()==s[e].lower():\n",
    "        l+=1\n",
    "        e-=1\n",
    "    else:\n",
    "        print('not a palindrome')\n",
    "        flag=False\n",
    "        break\n",
    "#                 return False\n",
    "#         return True\n",
    "        \n",
    "if flag:\n",
    "    print('palindrome')"
   ]
  },
  {
   "cell_type": "markdown",
   "id": "f3384d2e",
   "metadata": {},
   "source": [
    "# 8. 2 Sum \n",
    "\n",
    "https://leetcode.com/problems/two-sum/\n",
    "\n",
    "\n",
    "> 1. Initialize an empty dictionary.\n",
    "> 2. Loop through the array.\n",
    "> 3. For each number, calculate its complement.\n",
    "> 4, If the complement is in the dictionary, return the index of the current number and the stored index of the complement.\n",
    "> 5. If not, store the number and its index in the dictionary.\n",
    "\n",
    "<b>Time Complexity: </b>\n",
    "\n",
    "O(n) because the array is traversed only once.\n",
    "Space Complexity: \n",
    "\n",
    "O(n) because in the worst case, we might store every number in the dictionary."
   ]
  },
  {
   "cell_type": "code",
   "execution_count": 1,
   "id": "e9fd2be6",
   "metadata": {},
   "outputs": [
    {
     "name": "stdout",
     "output_type": "stream",
     "text": [
      "[1, 0]\n",
      "total time  0.0\n"
     ]
    }
   ],
   "source": [
    "from time import time\n",
    "\n",
    "nums = [2,7,11,15]\n",
    "target = 9\n",
    "\n",
    "start = time()\n",
    "\n",
    "dic = {}\n",
    "for i , ele in enumerate(nums):\n",
    "    if target - ele in dic.keys():\n",
    "        print([i,dic[target-ele]])\n",
    "        break\n",
    "    else:\n",
    "        dic[ele] = i\n",
    "        \n",
    "        \n",
    "        \n",
    "end = time()\n",
    "print(\"total time \", end - start)"
   ]
  },
  {
   "cell_type": "markdown",
   "id": "9a9c91f7",
   "metadata": {},
   "source": [
    "# 9. 2 SUM -II (Sorted Araay)\n",
    "https://leetcode.com/problems/two-sum-ii-input-array-is-sorted/\n",
    "\n",
    "\n",
    "** Whenever there is a sorted array use double pointer"
   ]
  },
  {
   "cell_type": "code",
   "execution_count": 28,
   "id": "293e3dac",
   "metadata": {},
   "outputs": [
    {
     "name": "stdout",
     "output_type": "stream",
     "text": [
      "[0, 1]\n"
     ]
    }
   ],
   "source": [
    "numbers = [2,7,11,15]\n",
    "target = 9\n",
    "\n",
    "\n",
    "left = 0\n",
    "right = len(numbers)-1\n",
    "\n",
    "while left < right:\n",
    "    sum = numbers[left] + numbers[right]\n",
    "    if sum == target:\n",
    "        print([left, right])\n",
    "        break\n",
    "    elif sum>target:\n",
    "        right-=1\n",
    "    else:\n",
    "        left+=1\n"
   ]
  },
  {
   "cell_type": "markdown",
   "id": "1f063e5b",
   "metadata": {},
   "source": [
    "# 10. 3 Sum\n",
    "\n",
    "https://leetcode.com/problems/3sum/\n",
    "\n",
    "* 2 POINTER WITH SORTED ARRAY, IGNORE DUPLICATES"
   ]
  },
  {
   "cell_type": "code",
   "execution_count": 6,
   "id": "f8a69ae4",
   "metadata": {},
   "outputs": [],
   "source": [
    "# nums = [-1,0,1,2,-1,-4]\n",
    "nums =[0,0,0]\n",
    "nums = [-2,0,1,1,2]\n",
    "nums = [-1,0,1,2,-1,-4]"
   ]
  },
  {
   "cell_type": "markdown",
   "id": "ba69617f",
   "metadata": {},
   "source": [
    "#### Optimized Solution"
   ]
  },
  {
   "cell_type": "code",
   "execution_count": 55,
   "id": "467675ab",
   "metadata": {},
   "outputs": [
    {
     "name": "stdout",
     "output_type": "stream",
     "text": [
      "[[-1, 2, -1], [0, 1, -1]]\n"
     ]
    }
   ],
   "source": [
    "### O(N^2) time and O(1) space auxillary space = O(M) length of solution list\n",
    "res = []\n",
    "\n",
    "nums.sort()\n",
    "\n",
    "for i in range(len(nums)-2):\n",
    "    \n",
    "    left = i+1\n",
    "    right = len(nums)-1\n",
    "    # passing the iteration if prev element is same\n",
    "    if i==0 or (i>0 and nums[i]!=nums[i-1]):\n",
    "        \n",
    "        target = 0 - nums[i]\n",
    "        \n",
    "        while left < right:\n",
    "            temp_sum = nums[left]+nums[right]\n",
    "            if temp_sum == target:\n",
    "                res.append([nums[left],nums[right],nums[i]])\n",
    "                \n",
    "                while left< right and nums[left]==nums[left+1]:\n",
    "                    left+=1\n",
    "                    \n",
    "                while left< right and nums[right]==nums[right-1]:\n",
    "                    right-=1\n",
    "                \n",
    "                left+=1\n",
    "                right-=1\n",
    "                \n",
    "            elif temp_sum > target:\n",
    "                right-=1\n",
    "                \n",
    "            else:\n",
    "                left+=1\n",
    "                    \n",
    "print(res)\n"
   ]
  },
  {
   "cell_type": "code",
   "execution_count": 1,
   "id": "c3c35bd9",
   "metadata": {},
   "outputs": [
    {
     "ename": "NameError",
     "evalue": "name 'List' is not defined",
     "output_type": "error",
     "traceback": [
      "\u001b[1;31m---------------------------------------------------------------------------\u001b[0m",
      "\u001b[1;31mNameError\u001b[0m                                 Traceback (most recent call last)",
      "Cell \u001b[1;32mIn[1], line 1\u001b[0m\n\u001b[1;32m----> 1\u001b[0m \u001b[38;5;28;01mclass\u001b[39;00m \u001b[38;5;21;01mSolution\u001b[39;00m:\n\u001b[0;32m      2\u001b[0m     \u001b[38;5;28;01mdef\u001b[39;00m \u001b[38;5;21mthreeSum\u001b[39m(\u001b[38;5;28mself\u001b[39m, nums: List[\u001b[38;5;28mint\u001b[39m]) \u001b[38;5;241m-\u001b[39m\u001b[38;5;241m>\u001b[39m List[List[\u001b[38;5;28mint\u001b[39m]]:\n\u001b[0;32m      4\u001b[0m         triplets \u001b[38;5;241m=\u001b[39m \u001b[38;5;28mset\u001b[39m()\n",
      "Cell \u001b[1;32mIn[1], line 2\u001b[0m, in \u001b[0;36mSolution\u001b[1;34m()\u001b[0m\n\u001b[0;32m      1\u001b[0m \u001b[38;5;28;01mclass\u001b[39;00m \u001b[38;5;21;01mSolution\u001b[39;00m:\n\u001b[1;32m----> 2\u001b[0m     \u001b[38;5;28;01mdef\u001b[39;00m \u001b[38;5;21mthreeSum\u001b[39m(\u001b[38;5;28mself\u001b[39m, nums: \u001b[43mList\u001b[49m[\u001b[38;5;28mint\u001b[39m]) \u001b[38;5;241m-\u001b[39m\u001b[38;5;241m>\u001b[39m List[List[\u001b[38;5;28mint\u001b[39m]]:\n\u001b[0;32m      4\u001b[0m         triplets \u001b[38;5;241m=\u001b[39m \u001b[38;5;28mset\u001b[39m()\n\u001b[0;32m      6\u001b[0m         nums\u001b[38;5;241m.\u001b[39msort()\n",
      "\u001b[1;31mNameError\u001b[0m: name 'List' is not defined"
     ]
    }
   ],
   "source": [
    "## easy to understand\n",
    "\n",
    "class Solution:\n",
    "    def threeSum(self, nums: List[int]) -> List[List[int]]:\n",
    "        \n",
    "        triplets = set()\n",
    "\n",
    "        nums.sort()\n",
    "\n",
    "        for i in range(len(nums)-1):\n",
    "\n",
    "            target = 0 - nums[i]\n",
    "\n",
    "            l = i+1\n",
    "            j = len(nums) - 1\n",
    "\n",
    "            while l < j:\n",
    "\n",
    "                sum = nums[l] + nums[j]\n",
    "\n",
    "                if sum == target:\n",
    "                    triplets.add((nums[i],nums[l],nums[j]))\n",
    "                    l+=1\n",
    "                    j-=1\n",
    "                elif sum > target:\n",
    "                    j-=1\n",
    "                else:\n",
    "                    l+=1\n",
    "        return triplets"
   ]
  },
  {
   "cell_type": "markdown",
   "id": "fc9a0bbb",
   "metadata": {},
   "source": [
    "# 11. 4 Sum\n",
    "\n",
    "https://leetcode.com/problems/4sum/\n",
    "\n",
    "\n",
    "* 2 POINTER WITH SORTED ARRAY, USE SET TO IGNORE DUPLICATES"
   ]
  },
  {
   "cell_type": "code",
   "execution_count": 5,
   "id": "ac27107f",
   "metadata": {},
   "outputs": [
    {
     "name": "stdout",
     "output_type": "stream",
     "text": [
      "{(2, 2, 2, 2)}\n"
     ]
    }
   ],
   "source": [
    "nums = [2,2,2,2,2]\n",
    "target = 8\n",
    "\n",
    "\n",
    "four_sum = set()\n",
    "\n",
    "nums.sort()\n",
    "\n",
    "for i in range(len(nums)):\n",
    "        for j in range(i+1,len(nums)):\n",
    "                result = target - nums[j] - nums[i]\n",
    "\n",
    "                l = j+1\n",
    "                r = len(nums)-1\n",
    "\n",
    "                while l < r:\n",
    "                    temp = nums[l]+nums[r]\n",
    "\n",
    "                    if result == temp:\n",
    "                        four_sum.add((nums[i], nums[j], nums[l], nums[r]))\n",
    "                        l+=1\n",
    "                        r-=1\n",
    "                    elif result < temp:\n",
    "                        r-=1\n",
    "                    else:\n",
    "                        l+=1\n",
    "print(four_sum)"
   ]
  },
  {
   "cell_type": "markdown",
   "id": "3889546f",
   "metadata": {},
   "source": [
    "# 12. Valid Parentheses\n",
    "\n",
    "https://leetcode.com/problems/valid-parentheses/"
   ]
  },
  {
   "cell_type": "markdown",
   "id": "351ce89d",
   "metadata": {},
   "source": [
    "**Stack :**\n",
    " * Push and Pop operation is O(1)\n",
    "    \n",
    "**Space and Time Complexity:**\n",
    " * Time complexity : O(N)\n",
    " * Space complexity : O(N)"
   ]
  },
  {
   "cell_type": "code",
   "execution_count": 4,
   "id": "a5b28cc5",
   "metadata": {},
   "outputs": [
    {
     "name": "stdout",
     "output_type": "stream",
     "text": [
      "True\n"
     ]
    }
   ],
   "source": [
    "s = \"()[]{}\"\n",
    "\n",
    "stack = []\n",
    "dict = {\"]\":\"[\", \"}\":\"{\", \")\":\"(\"}\n",
    "for char in s:\n",
    "    if char in dict.values():\n",
    "        stack.append(char)\n",
    "    elif char in dict.keys():\n",
    "        if stack == [] or dict[char] != stack.pop():\n",
    "            print(False)\n",
    "    else:\n",
    "        print(False)\n",
    "print(stack == [])"
   ]
  },
  {
   "cell_type": "markdown",
   "id": "1e851a19",
   "metadata": {},
   "source": [
    "## 13. Best Time to Buy and Sell Stock\n",
    "\n",
    "https://leetcode.com/problems/best-time-to-buy-and-sell-stock/\n"
   ]
  },
  {
   "cell_type": "markdown",
   "id": "e0fc96d7",
   "metadata": {},
   "source": [
    "#### Kadane's algorithm"
   ]
  },
  {
   "cell_type": "code",
   "execution_count": 20,
   "id": "c63b25c5",
   "metadata": {},
   "outputs": [
    {
     "name": "stdout",
     "output_type": "stream",
     "text": [
      "25\n"
     ]
    }
   ],
   "source": [
    "# Maximum subarray sum\n",
    "\n",
    "list1 = [2,-3,4,5,6,-7,8,9]\n",
    "\n",
    "max_sum = list1[0]\n",
    "curr_sum = 0\n",
    "\n",
    "for i,ele in enumerate(list1):\n",
    "    curr_sum+=ele\n",
    "    \n",
    "    if curr_sum > max_sum:\n",
    "        max_sum = curr_sum\n",
    "        \n",
    "    if curr_sum < 0 :\n",
    "        curr_sum = 0\n",
    "        \n",
    "print(max_sum)\n",
    "\n"
   ]
  },
  {
   "cell_type": "markdown",
   "id": "c87a378d",
   "metadata": {},
   "source": [
    "#### Important solution using kadane's algo"
   ]
  },
  {
   "cell_type": "code",
   "execution_count": 53,
   "id": "736c0a00",
   "metadata": {},
   "outputs": [
    {
     "data": {
      "text/plain": [
       "5"
      ]
     },
     "execution_count": 53,
     "metadata": {},
     "output_type": "execute_result"
    }
   ],
   "source": [
    "prices = [7,1,5,3,6,4]\n",
    "\n",
    "def maxProfit( prices):\n",
    "        if len(prices) <2:\n",
    "            return 0\n",
    "        max_sum = prices[1]-prices[0]\n",
    "        curr_sum = 0\n",
    "\n",
    "        for i in range(len(prices)-1):\n",
    "            curr_sum = curr_sum + (prices[i+1]-prices[i])\n",
    "            \n",
    "            if curr_sum > max_sum:\n",
    "                max_sum = curr_sum\n",
    "            if curr_sum < 0:\n",
    "                curr_sum = 0\n",
    "        if max_sum < 0:\n",
    "            max_sum = 0\n",
    "                \n",
    "        return max_sum\n",
    "    \n",
    "maxProfit(prices)"
   ]
  },
  {
   "cell_type": "markdown",
   "id": "2ddb9952",
   "metadata": {},
   "source": [
    "###### Simple solution"
   ]
  },
  {
   "cell_type": "code",
   "execution_count": 26,
   "id": "f08efd31",
   "metadata": {},
   "outputs": [
    {
     "data": {
      "text/plain": [
       "5"
      ]
     },
     "execution_count": 26,
     "metadata": {},
     "output_type": "execute_result"
    }
   ],
   "source": [
    "import sys\n",
    "buy = sys.maxsize\n",
    "sell = 0\n",
    "for i in range(len(prices)):\n",
    "    buy  = min(buy, prices[i])\n",
    "    sell = max(sell, prices[i]-buy)\n",
    "    \n",
    "sell"
   ]
  },
  {
   "cell_type": "markdown",
   "id": "ffcbb61d",
   "metadata": {},
   "source": [
    "# 14. Insert Interval\n",
    "https://leetcode.com/problems/insert-interval/"
   ]
  },
  {
   "cell_type": "code",
   "execution_count": 71,
   "id": "3bde206b",
   "metadata": {},
   "outputs": [
    {
     "name": "stdout",
     "output_type": "stream",
     "text": [
      "[[1, 5], [6, 9]]\n"
     ]
    }
   ],
   "source": [
    "intervals = [[1,3],[6,9]]\n",
    "newInterval = [2,5]\n",
    "#[[1,5],[6,9]]\n",
    "\n",
    "\n",
    "left = []\n",
    "right = []\n",
    "s, e = newInterval[0], newInterval[1]\n",
    "for ind in range(len(intervals)):\n",
    "    \n",
    "    if intervals[ind][1]< newInterval[0]:\n",
    "        left.append(intervals[ind])\n",
    "    elif intervals[ind][0]> newInterval[1]:\n",
    "        right.append(intervals[ind]) \n",
    "    else: \n",
    "        s = min(s,intervals[ind][0])\n",
    "        e = max(e,intervals[ind][1])\n",
    "        \n",
    "print(left+[[s,e]]+right)"
   ]
  },
  {
   "cell_type": "markdown",
   "id": "995775d1",
   "metadata": {},
   "source": [
    "## 15. Longest Palindrome\n",
    "\n",
    "https://leetcode.com/problems/longest-palindrome/"
   ]
  },
  {
   "cell_type": "code",
   "execution_count": 5,
   "id": "2d73c20f",
   "metadata": {},
   "outputs": [
    {
     "name": "stdout",
     "output_type": "stream",
     "text": [
      "{'c': 3, 'd': 2, 'a': 3}\n",
      "7\n"
     ]
    }
   ],
   "source": [
    "s = \"cccddaaa\"\n",
    "\n",
    "dic1={}\n",
    "l=0\n",
    "flag = False\n",
    "for _,i in enumerate(s):\n",
    "    dic1[i]=dic1.get(i,0)+1\n",
    "    \n",
    "print(dic1)    \n",
    "for i in dic1.values():\n",
    "    if i%2==0:\n",
    "        l+=i\n",
    "    else:\n",
    "        l+=i-1\n",
    "        flag = True\n",
    "if flag:\n",
    "    l+=1\n",
    "print(l)\n",
    "    "
   ]
  },
  {
   "cell_type": "markdown",
   "id": "b8a3ffd2",
   "metadata": {},
   "source": [
    "## 16. Longest Substring Without Repeating Characters\n",
    "\n",
    "https://leetcode.com/problems/longest-substring-without-repeating-characters/"
   ]
  },
  {
   "cell_type": "code",
   "execution_count": 55,
   "id": "7b443db2",
   "metadata": {},
   "outputs": [
    {
     "data": {
      "text/plain": [
       "5"
      ]
     },
     "execution_count": 55,
     "metadata": {},
     "output_type": "execute_result"
    }
   ],
   "source": [
    "s = \"tmmzuxt\"\n",
    "\n",
    "seen = \"\"\n",
    "max_len = 0\n",
    "\n",
    "for i in s:\n",
    "    if i in seen:\n",
    "        seen = seen[seen.find(i)+1:]\n",
    "        seen+=i\n",
    "    else:\n",
    "        seen+=i\n",
    "    if max_len < len(seen):\n",
    "        max_len=len(seen)\n",
    "return max_len"
   ]
  },
  {
   "cell_type": "code",
   "execution_count": 56,
   "id": "7a8ef769",
   "metadata": {},
   "outputs": [
    {
     "data": {
      "text/plain": [
       "5"
      ]
     },
     "execution_count": 56,
     "metadata": {},
     "output_type": "execute_result"
    }
   ],
   "source": [
    "# Sliding Window\n",
    "\n",
    "l = 0\n",
    "seen = set()\n",
    "longest = 0\n",
    "\n",
    "for r in range(len(s)):\n",
    "    while s[r] in seen:\n",
    "        seen.remove(s[l])\n",
    "        l+=1\n",
    "    \n",
    "    seen.add(s[r])\n",
    "    \n",
    "    longest = max(longest, r-l+1)\n",
    "    \n",
    "longest\n",
    "    "
   ]
  },
  {
   "cell_type": "markdown",
   "id": "08af09ed",
   "metadata": {},
   "source": [
    "## 17. Container With Most Water\n",
    "\n",
    "https://leetcode.com/problems/container-with-most-water/"
   ]
  },
  {
   "cell_type": "markdown",
   "id": "ad112f2f",
   "metadata": {},
   "source": [
    "Trick:\n",
    "\n",
    "Two pointer approach \n",
    "* Ideal case : product of leftmost and rightmost will be max, take l=0, r = n-1\n",
    "* Keep incrementing l if heigh[l] < height[r], else keep decrementing j\n",
    "* find max and store in a variable\n",
    "\n",
    "O(N) Time complexity"
   ]
  },
  {
   "cell_type": "code",
   "execution_count": 107,
   "id": "25c3fb39",
   "metadata": {},
   "outputs": [
    {
     "data": {
      "text/plain": [
       "49"
      ]
     },
     "execution_count": 107,
     "metadata": {},
     "output_type": "execute_result"
    }
   ],
   "source": [
    "height = [1,8,6,2,5,4,8,3,7]\n",
    "\n",
    "i=0 \n",
    "j=len(height)-1\n",
    "\n",
    "water=0\n",
    "\n",
    "while i<j:\n",
    "    water = max(water, (j-i) * min(height[i],height[j]))\n",
    "    \n",
    "    if height[i] < height[j]:\n",
    "        i+=1\n",
    "    else:\n",
    "        j-=1\n",
    "        \n",
    "water\n",
    "    "
   ]
  },
  {
   "cell_type": "markdown",
   "id": "80d5371a",
   "metadata": {},
   "source": [
    "## 18. Combination Sum\n",
    "\n",
    "https://leetcode.com/problems/combination-sum/description/\n"
   ]
  },
  {
   "cell_type": "markdown",
   "id": "a80c06d0",
   "metadata": {},
   "source": [
    "Trick:\n",
    "\n",
    "Backtracking\n",
    "\n",
    "* This will be solved by state space tree\n",
    "* backtrack if sum is greater than the target\n",
    "* To get unique elements, dont' take full array as options, keep removing elements to consider at next level in a tree\n",
    "\n",
    "https://leetcode.com/problems/combination-sum/solutions/1777569/full-explanation-with-state-space-tree-recursion-and-backtracking-well-explained-c/?orderBy=most_votes"
   ]
  },
  {
   "cell_type": "code",
   "execution_count": 73,
   "id": "7d7ac704",
   "metadata": {},
   "outputs": [
    {
     "data": {
      "text/plain": [
       "[[2, 2, 3], [7]]"
      ]
     },
     "execution_count": 73,
     "metadata": {},
     "output_type": "execute_result"
    }
   ],
   "source": [
    "\n",
    "candidates = [2,3,6,7]\n",
    "target = 7\n",
    "\n",
    "\n",
    "def combinationSum(candidates, target):\n",
    "    ret = []\n",
    "    dfs(candidates, target, [], ret)\n",
    "    return ret\n",
    "\n",
    "def dfs(nums, target, path, ret):\n",
    "    if target < 0:\n",
    "        return \n",
    "    if target == 0:\n",
    "        ret.append(path)\n",
    "        return \n",
    "    for i in range(len(nums)):\n",
    "        dfs(nums[i:], target-nums[i], path+[nums[i]], ret)\n",
    "        \n",
    "combinationSum(candidates,target)"
   ]
  },
  {
   "cell_type": "markdown",
   "id": "bf9d629c",
   "metadata": {},
   "source": [
    "## 19. Merged Interval\n",
    "\n",
    "https://leetcode.com/problems/merge-intervals/solutions/?orderBy=most_votes\n",
    "\n",
    "Trick:\n",
    "\n",
    "* Sort first\n",
    "* Simply append if empty else merge by fiding max of current and previous interval end"
   ]
  },
  {
   "cell_type": "code",
   "execution_count": 77,
   "id": "10ab3019",
   "metadata": {},
   "outputs": [
    {
     "data": {
      "text/plain": [
       "[[1, 6], [8, 10], [15, 18]]"
      ]
     },
     "execution_count": 77,
     "metadata": {},
     "output_type": "execute_result"
    }
   ],
   "source": [
    "intervals = [[1,3],[2,6],[8,10],[15,18]]\n",
    "\n",
    "merged = []\n",
    "\n",
    "\n",
    "for i in sorted(intervals, key =  lambda x : x[0]):\n",
    "    \n",
    "    if not merged or (i[0] > merged[-1][1]) :\n",
    "        merged.append(i)\n",
    "    else:\n",
    "        merged[-1][1] = max( merged[-1][1] , i[1] )\n",
    "\n",
    "merged "
   ]
  },
  {
   "cell_type": "markdown",
   "id": "eec391eb",
   "metadata": {},
   "source": [
    "## 20. Sort Colors\n",
    "\n",
    "https://leetcode.com/problems/sort-colors/\n",
    "\n",
    "\n",
    "* 2 pointer : l at 0 and r at end, traverse i from l to r, swapping 0 with l pos and 2 with r pos.\n",
    "* remember decrementing i(iterator) after swapping 2 as inserted unsorted element at i current loc\n"
   ]
  },
  {
   "cell_type": "code",
   "execution_count": 25,
   "id": "0a0cc048",
   "metadata": {},
   "outputs": [
    {
     "data": {
      "text/plain": [
       "[0, 1, 2]"
      ]
     },
     "execution_count": 25,
     "metadata": {},
     "output_type": "execute_result"
    }
   ],
   "source": [
    "nums =[2,0,1]\n",
    "\n",
    "i = 0\n",
    "l,r = 0, len(nums)-1\n",
    "\n",
    "def swap(i,j):\n",
    "    temp = nums[i]\n",
    "    nums[i] = nums[j]\n",
    "    nums[j] = temp\n",
    "\n",
    "while i <= r:\n",
    "    \n",
    "    if nums[i] == 0:\n",
    "        swap(l,i)\n",
    "        l+=1\n",
    "        \n",
    "    elif nums[i] == 2:\n",
    "        swap(r,i)\n",
    "        r-=1\n",
    "        i-=1\n",
    "    i+=1\n",
    "nums"
   ]
  },
  {
   "cell_type": "markdown",
   "id": "faf0c0f5",
   "metadata": {},
   "source": [
    "## 21. Binary Search\n",
    "\n",
    "https://leetcode.com/problems/binary-search/description/\n",
    "\n",
    "\n",
    "Tricks:\n",
    "* If you have sorted array, use binary search\n",
    "* log(n) time complexity , do binary search\n",
    "\n",
    "<b>Remember:</b> <ul><li> <b> l<=r</b> to cover the case when there is only one element </li>\n",
    "                     <li>OVERFLOW when the sum of low and high exceeds 2³¹\n",
    "    <ul><li> Always calculate mid = low+(high - low)//2</li></ul><ul>"
   ]
  },
  {
   "cell_type": "code",
   "execution_count": null,
   "id": "adb13c46",
   "metadata": {},
   "outputs": [],
   "source": [
    "l = 0\n",
    "r = len(nums)-1\n",
    "\n",
    "while l <= r:\n",
    "    m = l + (r - l) // 2\n",
    "\n",
    "    if nums[m] == target:\n",
    "        return m\n",
    "    elif nums[m] < target:\n",
    "        l = m + 1\n",
    "    else:\n",
    "        r = m - 1  \n",
    "return -1"
   ]
  },
  {
   "cell_type": "markdown",
   "id": "96cfbada",
   "metadata": {},
   "source": [
    "## 22.Time Based Key-Value Store\n",
    "\n",
    "https://leetcode.com/problems/time-based-key-value-store/description/"
   ]
  },
  {
   "cell_type": "code",
   "execution_count": 28,
   "id": "1ed5c681",
   "metadata": {},
   "outputs": [],
   "source": [
    "class TimeMap:\n",
    "    def __init__(self):\n",
    "        self.store = {}\n",
    "\n",
    "    def set(self, key: str, value: str, timestamp: int) -> None:\n",
    "        if key not in self.store:\n",
    "            self.store[key] = []\n",
    "        \n",
    "        self.store[key].append([value, timestamp])\n",
    "        \n",
    "\n",
    "    def get(self, key: str, timestamp: int) -> str:\n",
    "        # If the 'key' does not exist in dictionary we will return empty string.\n",
    "        values = self.store.get(key,[])\n",
    "\n",
    "        l = 0\n",
    "        r = len(values)-1\n",
    "        res = \"\"\n",
    "\n",
    "        while l <= r:\n",
    "\n",
    "            mid = (l+r)//2\n",
    "\n",
    "            if values[mid][1] <= timestamp:\n",
    "                l = mid+1\n",
    "                res = values[mid][0]\n",
    "            else:\n",
    "                r = mid-1\n",
    "\n",
    "        # If iterator points to first element it means, no time <= timestamp exists.\n",
    "        return res"
   ]
  },
  {
   "cell_type": "code",
   "execution_count": 29,
   "id": "9ac47a3c",
   "metadata": {},
   "outputs": [],
   "source": [
    "timeMap = TimeMap();\n",
    "timeMap.set(\"foo\", \"bar\", 1);\n",
    "\n",
    "timeMap.get(\"foo\", 1);       \n",
    "timeMap.get(\"foo\", 3); \n",
    "\n",
    "timeMap.set(\"foo\", \"bar2\", 4);\n",
    "timeMap.get(\"foo\", 4);       \n",
    "timeMap.get(\"foo\", 5); "
   ]
  },
  {
   "cell_type": "markdown",
   "id": "72fa3f72",
   "metadata": {},
   "source": [
    "## 23. Search in Rotated Sorted Array\n",
    "\n",
    "https://leetcode.com/problems/search-in-rotated-sorted-array/description/\n",
    "\n"
   ]
  },
  {
   "cell_type": "code",
   "execution_count": null,
   "id": "7d23a0f6",
   "metadata": {},
   "outputs": [],
   "source": [
    "nums = [4,5,6,7,0,1,2]\n",
    "target = 0\n",
    "\n",
    "if not nums:\n",
    "    return -1\n",
    "\n",
    "low, high = 0, len(nums) - 1\n",
    "\n",
    "while low <= high:\n",
    "    mid = (low + high) // 2\n",
    "    if target == nums[mid]:\n",
    "        return mid\n",
    "\n",
    "    if nums[low] <= nums[mid]:\n",
    "        if nums[low] <= target <= nums[mid]:\n",
    "            high = mid - 1\n",
    "        else:\n",
    "            low = mid + 1\n",
    "    else:\n",
    "        if nums[mid] <= target <= nums[high]:\n",
    "            low = mid + 1\n",
    "        else:\n",
    "            high = mid - 1\n",
    "\n",
    "return -1"
   ]
  },
  {
   "cell_type": "markdown",
   "id": "1a29531e",
   "metadata": {},
   "source": [
    "## 24. Linked List Cycle\n",
    "\n",
    "https://leetcode.com/problems/linked-list-cycle/description/\n",
    "    \n",
    "Tricks:\n",
    "\n",
    "    * 2 Pointer Approach\n",
    "    * Tortoise and hare algo : traverse an node faster than other, in linear time they will point to a same node "
   ]
  },
  {
   "cell_type": "code",
   "execution_count": null,
   "id": "d683e10b",
   "metadata": {},
   "outputs": [],
   "source": [
    "fast, slow = head, head\n",
    "\n",
    "while fast and fast.next:\n",
    "\n",
    "    slow = slow.next\n",
    "    fast = fast.next.next\n",
    "\n",
    "    if slow == fast:\n",
    "        return True\n",
    "return False"
   ]
  },
  {
   "cell_type": "markdown",
   "id": "73b56f25",
   "metadata": {},
   "source": [
    "## 25. First Bad Version\n",
    "\n",
    "https://leetcode.com/problems/first-bad-version/description/\n",
    "\n",
    "Trick: \n",
    " * bad versions are sorted"
   ]
  },
  {
   "cell_type": "code",
   "execution_count": null,
   "id": "1ff53795",
   "metadata": {},
   "outputs": [],
   "source": [
    "l = 0\n",
    "r = n\n",
    "\n",
    "while l < r:\n",
    "    mid = l + (r - l)//2\n",
    "\n",
    "    if isBadVersion(mid) == False:\n",
    "        l = mid+1\n",
    "\n",
    "    else:\n",
    "        r = mid\n",
    "return l"
   ]
  },
  {
   "cell_type": "code",
   "execution_count": null,
   "id": "285f2e2a",
   "metadata": {},
   "outputs": [],
   "source": []
  },
  {
   "cell_type": "code",
   "execution_count": 5,
   "id": "f23026b5",
   "metadata": {},
   "outputs": [
    {
     "name": "stdout",
     "output_type": "stream",
     "text": [
      "1   3   5\n",
      "4   4   5\n",
      "4\n"
     ]
    }
   ],
   "source": [
    "def isBadVersion(x):\n",
    "    if x==4:\n",
    "        return True\n",
    "    return False\n",
    "\n",
    "n=5\n",
    "\n",
    "r=n\n",
    "l=1\n",
    "while(l<=r):\n",
    "    mid = (l+r)//2\n",
    "    print(str(l),' ',str(mid),' ',str(r))\n",
    "\n",
    "    if isBadVersion(mid):\n",
    "\n",
    "        if not isBadVersion(mid-1):\n",
    "            print(mid)\n",
    "            break\n",
    "\n",
    "        r = mid+1\n",
    "    else:\n",
    "        l= mid+1"
   ]
  },
  {
   "cell_type": "code",
   "execution_count": null,
   "id": "8c8bde7a",
   "metadata": {},
   "outputs": [],
   "source": []
  },
  {
   "cell_type": "markdown",
   "id": "515328f9",
   "metadata": {},
   "source": [
    "## 26. Ransom Note\n",
    "\n",
    "https://leetcode.com/problems/ransom-note/description/\n",
    "\n",
    "Trick:\n",
    "* Check count of letters "
   ]
  },
  {
   "cell_type": "code",
   "execution_count": 44,
   "id": "199a63d1",
   "metadata": {},
   "outputs": [],
   "source": [
    "for i in set(ransomNote):\n",
    "            if magazine.count(i) < ransomNote.count(i):\n",
    "                    return False\n",
    "        return True\n"
   ]
  },
  {
   "cell_type": "code",
   "execution_count": 8,
   "id": "3ebbfcae",
   "metadata": {},
   "outputs": [
    {
     "name": "stdout",
     "output_type": "stream",
     "text": [
      "{'b': 1, 'a': -1}\n"
     ]
    }
   ],
   "source": [
    "ransomNote = \"a\"\n",
    "magazine = \"b\"\n",
    "\n",
    "dict1 = {}\n",
    "for i, letter in enumerate(magazine):\n",
    "    dict1[letter] = dict1.get(letter,0)+1\n",
    "\n",
    "for i, letter in enumerate(ransomNote):\n",
    "    dict1[letter] = dict1.get(letter,0)-1\n",
    "\n",
    "if any(i<0 for i in dict1.values()):\n",
    "    print('not found')\n"
   ]
  },
  {
   "cell_type": "markdown",
   "id": "f68a5f5e",
   "metadata": {},
   "source": [
    "## 27. Reverse Linked list\n",
    "\n",
    "https://leetcode.com/problems/reverse-linked-list/description/"
   ]
  },
  {
   "cell_type": "code",
   "execution_count": null,
   "id": "ce768b50",
   "metadata": {},
   "outputs": [],
   "source": [
    "if not head : return head\n",
    "prev = None\n",
    "\n",
    "while head:\n",
    "    curr = head\n",
    "    head = head.next\n",
    "    curr.next = prev\n",
    "    prev = curr\n",
    "return prev"
   ]
  },
  {
   "cell_type": "code",
   "execution_count": null,
   "id": "7df15ef9",
   "metadata": {},
   "outputs": [],
   "source": []
  },
  {
   "cell_type": "markdown",
   "id": "e1c202e0",
   "metadata": {},
   "source": [
    "## 28. Add Binary\n",
    "\n",
    "https://leetcode.com/problems/add-binary/  \n",
    "    \n"
   ]
  },
  {
   "cell_type": "code",
   "execution_count": null,
   "id": "f06d8ac6",
   "metadata": {},
   "outputs": [],
   "source": [
    "carry = 0\n",
    "res = ''\n",
    "\n",
    "a = list(a)\n",
    "b = list(b)\n",
    "\n",
    "\n",
    "while a or b or carry:\n",
    "    if a:\n",
    "        carry+=int(a.pop())\n",
    "\n",
    "    if b:\n",
    "        carry+=int(b.pop())\n",
    "\n",
    "    res+= str(int(carry%2))\n",
    "\n",
    "    carry = carry//2\n",
    "\n",
    "return res[::-1]"
   ]
  },
  {
   "cell_type": "code",
   "execution_count": null,
   "id": "b5f582f4",
   "metadata": {},
   "outputs": [],
   "source": []
  },
  {
   "cell_type": "markdown",
   "id": "af3ac803",
   "metadata": {},
   "source": [
    "## 29. Merge Two Sorted Lists\n",
    "\n",
    "https://leetcode.com/problems/merge-two-sorted-lists/"
   ]
  },
  {
   "cell_type": "code",
   "execution_count": 45,
   "id": "fcac4f47",
   "metadata": {},
   "outputs": [],
   "source": [
    "class LinkedList:\n",
    "    def __init__(self):\n",
    "        self.head = None\n",
    "    def __repr__(self):\n",
    "        node = self.head\n",
    "        nodes = []\n",
    "        while node is not None:\n",
    "            nodes.append(str(node.data))\n",
    "            node = node.next\n",
    "        nodes.append(\"None\")\n",
    "        return \" -> \".join(nodes)\n",
    "        \n",
    "class Node:\n",
    "    def __init__(self, data=0):\n",
    "        self.data = data\n",
    "        self.next = None"
   ]
  },
  {
   "cell_type": "code",
   "execution_count": 46,
   "id": "7e2e016a",
   "metadata": {},
   "outputs": [
    {
     "ename": "NameError",
     "evalue": "name 'list1' is not defined",
     "output_type": "error",
     "traceback": [
      "\u001b[1;31m---------------------------------------------------------------------------\u001b[0m",
      "\u001b[1;31mNameError\u001b[0m                                 Traceback (most recent call last)",
      "Cell \u001b[1;32mIn[46], line 3\u001b[0m\n\u001b[0;32m      1\u001b[0m head \u001b[38;5;241m=\u001b[39m temp \u001b[38;5;241m=\u001b[39m Node()\n\u001b[1;32m----> 3\u001b[0m \u001b[38;5;28;01mwhile\u001b[39;00m \u001b[43mlist1\u001b[49m \u001b[38;5;129;01mand\u001b[39;00m list2:\n\u001b[0;32m      4\u001b[0m     \u001b[38;5;28;01mif\u001b[39;00m list1\u001b[38;5;241m.\u001b[39mdata \u001b[38;5;241m<\u001b[39m list2\u001b[38;5;241m.\u001b[39mdata:\n\u001b[0;32m      5\u001b[0m         temp\u001b[38;5;241m.\u001b[39mnext \u001b[38;5;241m=\u001b[39m list1\n",
      "\u001b[1;31mNameError\u001b[0m: name 'list1' is not defined"
     ]
    }
   ],
   "source": [
    "head = temp = Node()\n",
    "\n",
    "while list1 and list2:\n",
    "    if list1.data < list2.data:\n",
    "        temp.next = list1\n",
    "        list1 = list1.next\n",
    "    else:\n",
    "        temp.next = list2\n",
    "        list2 = list2.next\n",
    "    temp = temp.next\n",
    "\n",
    "if list1:\n",
    "    temp.next = list1\n",
    "if list2:\n",
    "    temp.next = list2\n",
    "    \n",
    "head"
   ]
  },
  {
   "cell_type": "markdown",
   "id": "325e7613",
   "metadata": {},
   "source": [
    "## 30. Climbing Stairs\n",
    "\n",
    "https://leetcode.com/problems/climbing-stairs/\n",
    "\n",
    "> <b> Wherever we see a recursive solution that has repeated calls for same inputs, we can optimize it using Dynamic Programming </b>\n",
    "\n",
    "<h4>Dynamic Programming</h4>\n",
    "\n",
    "> * Breaking down an optimization problem into subproblems\n",
    "> * Store the results of subproblems so that we do not have to re-compute them when needed later. \n",
    "> * This simple optimization reduces time complexities from exponential to polynomial.\n",
    "\n",
    "1. Memoization : Top Down Approach\n",
    "\n",
    "2. Tabulation :- Bottom Up Approach\n",
    " \n",
    "<h6> How to Identify a DP problem? </h6>\n",
    "\n",
    "When we see a problem, it is very important to identify it as a dynamic programming problem. Generally (but not limited to) if the problem statement asks for the following:\n",
    "\n",
    "* Count the total number of ways\n",
    "* Given multiple ways of doing a task, which way will give the minimum or the maximum output.\n"
   ]
  },
  {
   "cell_type": "markdown",
   "id": "ba914a74",
   "metadata": {},
   "source": [
    "### Fibonacci Series"
   ]
  },
  {
   "cell_type": "code",
   "execution_count": 27,
   "id": "6a8fa511",
   "metadata": {},
   "outputs": [
    {
     "name": "stdout",
     "output_type": "stream",
     "text": [
      "Recursion Output :  [0, 1]  time taken :  0.0001511999998911051\n",
      "Recursion Output :  [0, 1, 1]  time taken :  0.00019740000061574392\n",
      "Recursion Output :  [0, 1]  time taken :  0.0001306000012846198\n"
     ]
    }
   ],
   "source": [
    "## Recursion : Exponential Time Complexity\n",
    "import timeit\n",
    "num=2\n",
    "\n",
    "def fibonacci(n):\n",
    "    a,b=0,1\n",
    "    list1=[a,b]\n",
    "    if n<=1:\n",
    "        list[n]\n",
    "    for i in range(n-2):\n",
    "        list1.append(a+b)\n",
    "        temp=b\n",
    "        b=a+b\n",
    "        a=temp\n",
    "    return list1\n",
    "\n",
    "start_time = timeit.default_timer()\n",
    "print('Recursion Output : ' , fibonacci(num),' time taken : ', timeit.default_timer() - start_time)\n",
    "\n",
    "\n",
    "## DP: Memoization\n",
    "def fib(n, dp):\n",
    "    if n<=1: \n",
    "        dp[n]=n\n",
    "        return n\n",
    "    \n",
    "    if dp[n]!= -1:\n",
    "        return dp[n]\n",
    "    \n",
    "    dp[n] = fib(n-1,dp) + fib(n-2, dp)\n",
    "    \n",
    "    return dp[n]\n",
    "\n",
    "start_time = timeit.default_timer()\n",
    "dp = [-1] * (num+1)\n",
    "fib(num,dp)\n",
    "print('Recursion Output : ' ,dp ,' time taken : ', timeit.default_timer() - start_time)\n",
    "\n",
    "##DP: Tabulation\n",
    "def f(n):\n",
    "    if n<=1: \n",
    "        dp[n]=n\n",
    "        return n\n",
    "    \n",
    "    dp = [-1] * (n+1)\n",
    "    \n",
    "    for i in range(2,n-1):\n",
    "        dp[i] = dp[i-1] + dp[i-2]\n",
    "    \n",
    "    return dp[n]\n",
    "\n",
    "start_time = timeit.default_timer()\n",
    "print('Recursion Output : ' , fibonacci(num),' time taken : ', timeit.default_timer() - start_time)"
   ]
  },
  {
   "cell_type": "code",
   "execution_count": null,
   "id": "19db1501",
   "metadata": {},
   "outputs": [],
   "source": []
  },
  {
   "cell_type": "code",
   "execution_count": null,
   "id": "02879823",
   "metadata": {},
   "outputs": [],
   "source": [
    "dp = [-1]*(n+2)\n",
    "dp[0]=0\n",
    "dp[1]=1\n",
    "\n",
    "for i in range(2,n+2):\n",
    "    dp[i] = dp[i-1] + dp[i-2]\n",
    "\n",
    "return dp[n+1]"
   ]
  },
  {
   "cell_type": "markdown",
   "id": "8dfc7aae",
   "metadata": {},
   "source": [
    "## 31. Majority element\n",
    "\n",
    "https://leetcode.com/problems/majority-element/description/\n",
    "\n",
    "* New concept:\n",
    "\n",
    "    ** sort dic based on values **\n",
    "\n",
    ">  sorted(dic.items(), key = lambda x:x[1])\n",
    "\n",
    "    * sorted return list of tuples, convert into dict\n",
    "    * dic.keys() is not subscriptable, first convert into list\n",
    "    * sorted reverse = True for decreasing order\n",
    "    >dic = {1:3, 2:6, 7:1}\n",
    "\n",
    "    >dic = dict(sorted(dic.items(), key = lambda x:x[1], reverse = True))\n",
    "\n",
    "    >list(dic.keys())[0]\n"
   ]
  },
  {
   "cell_type": "code",
   "execution_count": 3,
   "id": "cfc185a7",
   "metadata": {},
   "outputs": [
    {
     "name": "stdout",
     "output_type": "stream",
     "text": [
      "4\n"
     ]
    }
   ],
   "source": [
    "nums = [1,2,3,4,4,4,1,2,4,4,4,4,2]\n",
    "dic = {}\n",
    "\n",
    "for i in nums:\n",
    "    dic[i] = dic.get(i,0)+1\n",
    "\n",
    "for k, v in dic.items():\n",
    "    if v > len(nums)/2:\n",
    "        print(k)"
   ]
  },
  {
   "cell_type": "markdown",
   "id": "c0b20189",
   "metadata": {},
   "source": [
    "## 32. Find All Anagrams in a String\n",
    "\n",
    "https://leetcode.com/problems/find-all-anagrams-in-a-string/\n",
    "\n",
    "<b> Two Pointer sliding window </b>\n",
    "\n",
    "compare the two hashmap,  using two pointer and sliding window and keep removing the left and incrementing  & adding the right pointer\n",
    "\n"
   ]
  },
  {
   "cell_type": "code",
   "execution_count": 33,
   "id": "16e3f2ce",
   "metadata": {},
   "outputs": [
    {
     "data": {
      "text/plain": [
       "[0, 6]"
      ]
     },
     "execution_count": 33,
     "metadata": {},
     "output_type": "execute_result"
    }
   ],
   "source": [
    "s = \"cbaebabacd\"\n",
    "p = \"abc\"\n",
    "# s = \"abab\"\n",
    "# p = \"ab\"\n",
    "\n",
    "pcount = {}\n",
    "scount = {}\n",
    "\n",
    "\n",
    "for i in range(len(p)):\n",
    "    pcount[p[i]] = 1  + pcount.get(p[i],0)\n",
    "    scount[s[i]] = 1  + scount.get(s[i],0)\n",
    "\n",
    "res = [0] if scount == pcount else []\n",
    "l = 0\n",
    "\n",
    "for r in range(len(p),len(s)):\n",
    "    \n",
    "    scount[s[r]] = 1  + scount.get(s[r],0)\n",
    "    scount[s[l]]-=1\n",
    "    \n",
    "    if scount[s[l]] ==0:\n",
    "        scount.pop(s[l])\n",
    "    \n",
    "    l += 1\n",
    "    \n",
    "    if scount == pcount:\n",
    "        res.append(l)\n",
    "\n",
    "    \n",
    "res"
   ]
  },
  {
   "cell_type": "markdown",
   "id": "a63c53fd",
   "metadata": {},
   "source": [
    "## 33.  String to Integer (atoi)\n",
    "\n",
    "https://leetcode.com/problems/string-to-integer-atoi/description/\n",
    "\n",
    "Trick:\n",
    "> DFA, which stands for Deterministic finite automaton, is a state machine that either accepts or rejects a sequence of symbols by running through a state sequence uniquely determined by the string. \n",
    "\n",
    "* State 0 : if empty  space\n",
    "* state 1 : + or - sign \n",
    "* state 2 : digit\n",
    "\n",
    "* else return 0"
   ]
  },
  {
   "cell_type": "code",
   "execution_count": 3,
   "id": "e9aa1877",
   "metadata": {},
   "outputs": [],
   "source": [
    "class Solution:\n",
    "    def myAtoi(self, s: str) -> int:\n",
    "        \n",
    "        itr, res, sign, state = 0, 0, 1, 0\n",
    "\n",
    "        if len(s) == 0:\n",
    "            return 0\n",
    "\n",
    "\n",
    "        while itr < len(s):\n",
    "            \n",
    "            current_char = s[itr]\n",
    "            \n",
    "            if state == 0:\n",
    "                \n",
    "                if current_char==' ':\n",
    "                    state = 0  \n",
    "                \n",
    "                elif current_char =='+' or current_char == '-':\n",
    "                    state = 1\n",
    "                    sign = 1 if current_char =='+' else -1\n",
    "                    \n",
    "                elif current_char.isdigit():\n",
    "                    state = 2\n",
    "                    res = 10 * res + int(current_char)\n",
    "                    \n",
    "                else:\n",
    "                    return 0\n",
    "\n",
    "            elif state == 1:\n",
    "                if current_char.isdigit():\n",
    "                    state = 2\n",
    "                    res = 10 * res + int(current_char)\n",
    "                else:\n",
    "                    return 0\n",
    "\n",
    "            elif state == 2:\n",
    "                if current_char.isdigit():\n",
    "                    state = 2\n",
    "                    res = 10 * res + int(current_char)\n",
    "                else:\n",
    "                    break\n",
    "\n",
    "            else:\n",
    "                return 0\n",
    "            \n",
    "            itr+=1\n",
    "            \n",
    "        res = sign * res\n",
    "        res = max( res, -(2 ** 31))\n",
    "        res = min( res, 2 ** 31 - 1)\n",
    "        return res"
   ]
  },
  {
   "cell_type": "markdown",
   "id": "de732e8c",
   "metadata": {},
   "source": [
    "## 34. Longest Palindromic Substring\n",
    "\n",
    "https://leetcode.com/problems/longest-palindromic-substring/\n",
    "\n",
    "Hints:\n",
    "* two pointer, from centre, check seperately for odd and even loc.\n",
    "* At every location, check from centre is it palindrome, diverge out to find longest palindrom."
   ]
  },
  {
   "cell_type": "code",
   "execution_count": 3,
   "id": "afeef801",
   "metadata": {},
   "outputs": [
    {
     "data": {
      "text/plain": [
       "'bab'"
      ]
     },
     "execution_count": 3,
     "metadata": {},
     "output_type": "execute_result"
    }
   ],
   "source": [
    "class Solution:\n",
    "    def longestPalindrome(self, s: str) -> str:\n",
    "        res=''\n",
    "        n = len(s)\n",
    "\n",
    "        def check_centre(l , r):\n",
    "\n",
    "            while l >=0 and r<n and s[l] == s[r]:\n",
    "                l-=1\n",
    "                r+=1\n",
    "            return s[l+1:r]\n",
    "\n",
    "        for i in range(n):\n",
    "            \n",
    "            # odd length\n",
    "            b1 = check_centre(i,i)\n",
    "            res = b1 if len(b1)> len(res) else res\n",
    "            # even length\n",
    "            b1 = check_centre(i,i+1)\n",
    "            res = b1 if len(b1)> len(res) else res            \n",
    "            \n",
    "        return res\n",
    "    \n",
    "sol = Solution()\n",
    "sol.longestPalindrome(\"babad\")"
   ]
  },
  {
   "cell_type": "markdown",
   "id": "7c9d84a5",
   "metadata": {},
   "source": [
    "## 35. Minimum Window Substring\n",
    "\n",
    "\n",
    "https://leetcode.com/problems/minimum-window-substring/description/\n",
    "\n",
    "Hints:\n",
    "* Hashmap compare with sliding window\n",
    "* have, need, increment have if char iunbn countT and counts of char are same in both hashmap"
   ]
  },
  {
   "cell_type": "code",
   "execution_count": 1,
   "id": "5b2c9538",
   "metadata": {},
   "outputs": [],
   "source": [
    "s = \"ADOBECODEBANC\"\n",
    "t = \"ABC\""
   ]
  },
  {
   "cell_type": "code",
   "execution_count": 2,
   "id": "afa23aa4",
   "metadata": {},
   "outputs": [
    {
     "ename": "SyntaxError",
     "evalue": "'return' outside function (814406810.py, line 2)",
     "output_type": "error",
     "traceback": [
      "\u001b[1;36m  Cell \u001b[1;32mIn[2], line 2\u001b[1;36m\u001b[0m\n\u001b[1;33m    return \"\"\u001b[0m\n\u001b[1;37m    ^\u001b[0m\n\u001b[1;31mSyntaxError\u001b[0m\u001b[1;31m:\u001b[0m 'return' outside function\n"
     ]
    }
   ],
   "source": [
    "if len(t)==0:\n",
    "    return \"\"\n",
    "\n",
    "window, countT = {}, {}\n",
    "\n",
    "for i in t:\n",
    "    countT[i] = countT.get(i,0) + 1\n",
    "    \n",
    "have, need = 0, len(countT)  \n",
    "res, resLen = (-1, -1), float('inf')\n",
    "\n",
    "l=0\n",
    "\n",
    "for r, c in enumerate(s):\n",
    "    \n",
    "    window[c] = window.get(c,0) + 1\n",
    "    \n",
    "    if c in countT and countT[c] == window[c]:\n",
    "        have+=1\n",
    "#     print(have, need, countT,window, l,'\\n')\n",
    "    while have == need:\n",
    "#         print(have, need, countT,window, l,'\\n')\n",
    "        if resLen > (r - l + 1):\n",
    "            res = [l , r]\n",
    "            resLen = r - l + 1\n",
    "        \n",
    "        window[s[l]]-=1\n",
    "        \n",
    "        if s[l] in countT and countT[s[l]] > window[s[l]]:\n",
    "            have-=1\n",
    "            \n",
    "        l+=1\n",
    "        \n",
    "        \n",
    "l,r = res         \n",
    "s[l:r+1] if resLen != float('inf') else \"\"\n",
    "    \n",
    "    \n",
    "    "
   ]
  },
  {
   "cell_type": "markdown",
   "id": "8264c660",
   "metadata": {},
   "source": [
    "## 36. Spiral Matrix\n",
    "\n",
    "https://leetcode.com/problems/spiral-matrix/"
   ]
  },
  {
   "cell_type": "code",
   "execution_count": 77,
   "id": "fd0b30e3",
   "metadata": {},
   "outputs": [
    {
     "data": {
      "text/plain": [
       "[1, 2, 3, 6, 9, 8, 7, 4, 5]"
      ]
     },
     "execution_count": 77,
     "metadata": {},
     "output_type": "execute_result"
    }
   ],
   "source": [
    "matrix = [[1,2,3],[4,5,6],[7,8,9]]\n",
    "\n",
    "res = []\n",
    "\n",
    "\n",
    "l , r = 0 , len(matrix[0])\n",
    "t, b = 0 , len(matrix)\n",
    "\n",
    "while l<r and t<b:\n",
    "    for i in range(l, r):\n",
    "        res.append(matrix[t][i])\n",
    "    t+=1\n",
    "\n",
    "\n",
    "    for i in range(t,b):\n",
    "        res.append(matrix[i][r-1])\n",
    "    r-=1\n",
    "    \n",
    "    if not (l<r and t<b):\n",
    "        break\n",
    "\n",
    "    for i in range(r-1,l-1,-1):\n",
    "        res.append(matrix[b-1][i])\n",
    "    b-=1\n",
    "\n",
    "    for i in range(b-1,t-1,-1):\n",
    "        res.append(matrix[i][l])\n",
    "    l+=1\n",
    "\n",
    "\n",
    "res"
   ]
  },
  {
   "cell_type": "markdown",
   "id": "9ea2e351",
   "metadata": {},
   "source": [
    "## 37. Flood fill\n",
    "\n",
    "\n",
    "https://leetcode.com/problems/flood-fill/description/\n",
    "\n",
    "DFS, check (sr,sc) constraints, same color, check neighbors, stopping condition ( 1 infinite loop if same color at sr, sc)"
   ]
  },
  {
   "cell_type": "code",
   "execution_count": 43,
   "id": "3cbf2f5a",
   "metadata": {},
   "outputs": [],
   "source": [
    "class Solution:\n",
    "\n",
    "    def fill(self, image, sr, sc, color, curr):\n",
    "\n",
    "        if sr < 0 or sr >= len(image) or sc < 0 or sc >= len(image[0]): return;\n",
    "\n",
    "        if curr != image[sr][sc]: return;\n",
    "\n",
    "        image[sr][sc] = color;\n",
    "\n",
    "        self.fill(image, sr-1,sc,color, curr);\n",
    "        self.fill(image, sr+1,sc,color, curr);\n",
    "        self.fill(image, sr,sc-1,color, curr);\n",
    "        self.fill(image, sr,sc+1,color, curr);\n",
    "\n",
    "\n",
    "    def floodFill(self, image, sr, sc, color):\n",
    "\n",
    "        if image[sr][sc] == color: return image;\n",
    "        self.fill(image, sr, sc, color, image[sr][sc]);\n",
    "        \n",
    "        return image"
   ]
  },
  {
   "cell_type": "code",
   "execution_count": null,
   "id": "acd6a05e",
   "metadata": {},
   "outputs": [],
   "source": []
  },
  {
   "cell_type": "markdown",
   "id": "ad6d91c0",
   "metadata": {},
   "source": [
    "## 38. 01 Matrix\n",
    "\n",
    "\n",
    "https://leetcode.com/problems/01-matrix/description/\n",
    "\n",
    "BFS, fill queue with 0's index and then increment non-0s neighbouring elements and add it to queue "
   ]
  },
  {
   "cell_type": "code",
   "execution_count": null,
   "id": "0c25d2f3",
   "metadata": {},
   "outputs": [],
   "source": [
    "class Solution:\n",
    "    def updateMatrix(self, mat: List[List[int]]) -> List[List[int]]:\n",
    "\n",
    "        q = []\n",
    "\n",
    "        for i in range(len(mat)):\n",
    "            for j in range(len(mat[0])):\n",
    "                if mat[i][j] == 0:\n",
    "                    q.append((i,j))\n",
    "                else:\n",
    "                    mat[i][j] = '#'\n",
    "        \n",
    "\n",
    "        for r,c in q:\n",
    "            for dr, dc in [[1,0],[-1,0],[0,1],[0,-1]]:\n",
    "                nr = r + dr\n",
    "                nc = c + dc\n",
    "\n",
    "                if 0 <= nr < len(mat) and 0 <= nc < len(mat[0]) and mat[nr][nc] =='#':\n",
    "                    mat[nr][nc] = 1 + mat[r][c]\n",
    "                    q.append((nr,nc))\n",
    "\n",
    "        return mat"
   ]
  },
  {
   "cell_type": "markdown",
   "id": "2cec39e6",
   "metadata": {},
   "source": [
    "## 39. Middle of a linked list\n",
    "\n",
    "\n",
    "https://leetcode.com/problems/middle-of-the-linked-list/description/\n",
    "\n",
    "<!-- list1 = ListNode(1)\n",
    "list2 = ListNode(2)\n",
    "list3 = ListNode(3)\n",
    "list4 = ListNode(4)\n",
    "list5 = ListNode(5)\n",
    "list6 = ListNode(6)\n",
    "\n",
    "list1.next = list2\n",
    "list2.next = list3\n",
    "list3.next = list4\n",
    "list4.next = list5\n",
    "list5.next = list6\n",
    "\n",
    "head = list1 \n",
    "\n",
    "c = Solution()\n",
    "\n",
    "xx = c.middleNode(head)\n",
    "\n",
    "while xx:\n",
    "    print(xx.val)\n",
    "    xx= xx.next\n",
    "-->"
   ]
  },
  {
   "cell_type": "code",
   "execution_count": 70,
   "id": "3cacfb17",
   "metadata": {},
   "outputs": [],
   "source": [
    "class ListNode:\n",
    "    def __init__(self, val=0, next=None):\n",
    "        self.val = val\n",
    "        self.next = next\n",
    "        \n",
    "class Solution:\n",
    "    def middleNode(self, head):\n",
    "\n",
    "        left = right = head\n",
    "\n",
    "        while right and right.next:\n",
    "            \n",
    "            left = left.next\n",
    "            right = right.next.next\n",
    "                       \n",
    "        return left"
   ]
  },
  {
   "cell_type": "code",
   "execution_count": 68,
   "id": "d2541a38",
   "metadata": {},
   "outputs": [],
   "source": []
  },
  {
   "cell_type": "markdown",
   "id": "bf17f7df-a493-42ad-8aed-299fd7ba8217",
   "metadata": {},
   "source": [
    "## 40. Maximum Profit in Job scheduling\n",
    "\n",
    "\n",
    "https://leetcode.com/problems/maximum-profit-in-job-scheduling/description/\n",
    "\n",
    "\n",
    "> Tricks:\n",
    "\n",
    "    * DP and Binary Search\n",
    "    \n",
    "    * Sort jobs by start time, then use recursive dynamic programming with memoization and binary search to decide, for each job, whether to include it (adding its profit and jumping to the next non-overlapping job) or exclude it (moving to the next job).\n",
    "\n",
    "> Lru_Cache() : \\t a decorator to memoize function outputs. store expensive computations\n",
    "\n",
    "> bisect left : return the position of leftmost if duplicates exist\n",
    "\n",
    "> bisect right: return the rightmost position if duplicate exists"
   ]
  },
  {
   "cell_type": "code",
   "execution_count": 5,
   "id": "540c5800-7991-49a0-999a-ba45e2414acc",
   "metadata": {},
   "outputs": [],
   "source": [
    "startTime = [1,2,3,4,6]\n",
    "endTime = [3,5,10,6,9]\n",
    "profit = [20,20,100,70,60]"
   ]
  },
  {
   "cell_type": "code",
   "execution_count": 4,
   "id": "16e58bab-2c49-49ad-b553-a128e8701681",
   "metadata": {},
   "outputs": [
    {
     "name": "stdout",
     "output_type": "stream",
     "text": [
      "150\n"
     ]
    }
   ],
   "source": [
    "import bisect\n",
    "from functools import lru_cache \n",
    "jobs = sorted(zip(startTime, endTime, profit))\n",
    "\n",
    "startTime = [ job[0] for job in jobs]\n",
    "n = len(startTime)\n",
    "\n",
    "@lru_cache()\n",
    "def dp(i):\n",
    "    if i>= n: return 0\n",
    "    new_i = bisect.bisect_left(startTime, jobs[i][1])\n",
    "    return max(dp(i+1), jobs[i][2] + dp(new_i))\n",
    "\n",
    "print(dp(0))\n",
    "\n",
    "\n"
   ]
  },
  {
   "cell_type": "markdown",
   "id": "49ff9c62-647f-4a11-ac15-5f97a04ac599",
   "metadata": {},
   "source": [
    "## 41. Coin Change\n",
    "\n",
    "https://leetcode.com/problems/coin-change/description/\n",
    "\n",
    "> DP: Dynamic programming is breaking down the complex problems into similar subproblems with memorization( storing results of subproblems)\n",
    "\n",
    "> Recursion: breaking it down into smaller problems without storing results\n",
    "\n",
    "\n",
    "###### Tricks\n",
    "\n",
    "- **Bottom up  : Approach, store coins needed from 1 to amount for each count, find minimu**m.\n",
    "- **DP Array**: Create a dynamic programming array initialized with large values.\n",
    "- **Base Case**: Set `dp[0]` to 0 (zero coins needed for amount 0).\n",
    "- **Coin Iteration**: For each coin, iterate through the `dp` array.\n",
    "- **Update DP**: For valid amounts, update `dp` using `dp[amount - coin] + 1`.\n",
    "- **Result**: `dp[amount]` gives minimum coins; if unchanged, return -1.\n",
    "turn -1.\n",
    " -1.\n"
   ]
  },
  {
   "cell_type": "code",
   "execution_count": 13,
   "id": "3d1fd761-4af6-453c-8499-f3e3d427de21",
   "metadata": {},
   "outputs": [],
   "source": [
    "coins = [1,2,5]\n",
    "amount = 11\n"
   ]
  },
  {
   "cell_type": "code",
   "execution_count": 14,
   "id": "c80bea9a-d1bb-43ec-b32e-bdb44f9b036e",
   "metadata": {},
   "outputs": [
    {
     "name": "stdout",
     "output_type": "stream",
     "text": [
      "3\n"
     ]
    }
   ],
   "source": [
    "\n",
    "dp = [amount+1] * (amount+1)\n",
    "\n",
    "dp[0] = 0\n",
    "\n",
    "for a in range(1, amount+1):\n",
    "    for c in coins:\n",
    "        if a - c >= 0:\n",
    "            dp[a] = min(dp[a], 1 + dp[a-c])\n",
    "\n",
    "print(dp[amount] if dp[amount]!=amount+1 else -1)"
   ]
  },
  {
   "cell_type": "markdown",
   "id": "e7b47f61",
   "metadata": {},
   "source": [
    "## 42. Partition Equal Subset Sum\n",
    "\n",
    "Tips:\n",
    "> Don't use same data structure for looping and appending\n",
    "\n",
    "> a dict, equal partition == sum(arr)//2; or partition only possible when sum is even.; \n",
    "\n",
    "> nested loop over memo elements and ele in nums; keep adding combination sum"
   ]
  },
  {
   "cell_type": "code",
   "execution_count": null,
   "id": "1b913ac0-c0c4-453a-bc69-3bb86b8d67ca",
   "metadata": {},
   "outputs": [],
   "source": [
    "\n",
    "memo = set([0])\n",
    "if sum(nums) % 2 == 0:\n",
    "    totSum = sum(nums)/2\n",
    "else:\n",
    "     return False\n",
    "\n",
    "\n",
    "for i in nums:\n",
    "    current_memo = list(memo)  # Create a copy of the current state of memo\n",
    "    for m in current_memo:\n",
    "        memo.add(m + i)\n",
    "    if totSum in memo:\n",
    "        return True\n",
    "\n",
    "return False"
   ]
  },
  {
   "cell_type": "markdown",
   "id": "6474f4b6",
   "metadata": {},
   "source": [
    "## 43. Unique Paths\n",
    "\n",
    "https://leetcode.com/problems/unique-paths/\n"
   ]
  },
  {
   "cell_type": "code",
   "execution_count": null,
   "id": "c6fad640-ff82-4b5b-baa5-61abbe81261e",
   "metadata": {},
   "outputs": [],
   "source": [
    "@lru_cache\n",
    "def dfs(i,j):\n",
    "\n",
    "    if i>=m or j>=n: return 0\n",
    "    if i==m-1 and j==n-1: return 1\n",
    "\n",
    "    return dfs(i+1,j) + dfs(i,j+1)\n",
    "\n",
    "return dfs(0,0)"
   ]
  },
  {
   "cell_type": "code",
   "execution_count": null,
   "id": "6ef78830-09a8-4f22-9ad6-59583b38713a",
   "metadata": {},
   "outputs": [],
   "source": []
  },
  {
   "cell_type": "code",
   "execution_count": null,
   "id": "3a86b7c7",
   "metadata": {},
   "outputs": [],
   "source": []
  },
  {
   "cell_type": "code",
   "execution_count": 8,
   "id": "2d0912f8",
   "metadata": {},
   "outputs": [
    {
     "data": {
      "text/plain": [
       "[[1], [1, 1], [1, 2, 1], [1, 3, 3, 1], [1, 4, 6, 4, 1]]"
      ]
     },
     "execution_count": 8,
     "metadata": {},
     "output_type": "execute_result"
    }
   ],
   "source": [
    "res = []\n",
    "\n",
    "for i in range(0,numRows):\n",
    "    temp = []\n",
    "    for j in range(0,i+1):\n",
    "        if 0 <= (i-1) and 0 <= (j-1) < (i-1):\n",
    "            temp.append(res[i-1][j] + res[i-1][j-1])\n",
    "        else:\n",
    "            temp.append(1)\n",
    "    res.append(temp)\n",
    "    \n",
    "res"
   ]
  },
  {
   "cell_type": "code",
   "execution_count": null,
   "id": "79ca490d",
   "metadata": {},
   "outputs": [],
   "source": []
  }
 ],
 "metadata": {
  "kernelspec": {
   "display_name": "Python 3 (ipykernel)",
   "language": "python",
   "name": "python3"
  },
  "language_info": {
   "codemirror_mode": {
    "name": "ipython",
    "version": 3
   },
   "file_extension": ".py",
   "mimetype": "text/x-python",
   "name": "python",
   "nbconvert_exporter": "python",
   "pygments_lexer": "ipython3",
   "version": "3.11.4"
  },
  "vscode": {
   "interpreter": {
    "hash": "da0a2cba9512daaf87b7131116f7b4dd1b0f6e96b173a2f70ae8ed175131cbf7"
   }
  }
 },
 "nbformat": 4,
 "nbformat_minor": 5
}
