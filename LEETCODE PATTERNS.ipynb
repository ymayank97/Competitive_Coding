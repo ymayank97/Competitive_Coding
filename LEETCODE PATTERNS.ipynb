{
 "cells": [
  {
   "cell_type": "markdown",
   "id": "aebe5ea6",
   "metadata": {},
   "source": [
    "# Leetcode Patterns \n",
    "\n",
    "> Solving 2-3 questions daily ..😂\n",
    "\n",
    "\n",
    "https://seanprashad.com/leetcode-patterns/"
   ]
  },
  {
   "cell_type": "markdown",
   "id": "f91430fd",
   "metadata": {},
   "source": [
    "# 2 sum\n",
    " \n",
    " \n",
    " Return 2 indices , Cannot use same number twice\n",
    " \n",
    " https://leetcode.com/problems/two-sum/"
   ]
  },
  {
   "cell_type": "code",
   "execution_count": 5,
   "id": "e81eef35",
   "metadata": {},
   "outputs": [],
   "source": [
    "nums=[2,7,11,15]\n",
    "target=9\n",
    "\n",
    "# nums = [3,2,4]\n",
    "# target = 6"
   ]
  },
  {
   "cell_type": "markdown",
   "id": "744d5e33",
   "metadata": {},
   "source": [
    "### Brute force\n",
    "\n",
    "Time : O(N^2) Space: 2O(N)"
   ]
  },
  {
   "cell_type": "code",
   "execution_count": 6,
   "id": "89930031",
   "metadata": {},
   "outputs": [
    {
     "name": "stdout",
     "output_type": "stream",
     "text": [
      "0 1\n"
     ]
    }
   ],
   "source": [
    "for i in range(0,len(nums)):\n",
    "    for j in range(i+1,len(nums)):\n",
    "#         print(i,j)\n",
    "        if nums[i]+nums[j]== target:\n",
    "            print(i,j)"
   ]
  },
  {
   "cell_type": "code",
   "execution_count": 9,
   "id": "1a8b06dc",
   "metadata": {},
   "outputs": [
    {
     "name": "stdout",
     "output_type": "stream",
     "text": [
      "1 0\n"
     ]
    }
   ],
   "source": [
    "dic={}\n",
    "for i in range(0,len(nums)):\n",
    "    diff = target - nums[i]\n",
    "    \n",
    "    if diff in dic.keys():\n",
    "        print( i, dic[diff])\n",
    "        break\n",
    "    else:\n",
    "        dic[nums[i]]=i"
   ]
  },
  {
   "cell_type": "code",
   "execution_count": 10,
   "id": "d3e7ba2b",
   "metadata": {},
   "outputs": [
    {
     "data": {
      "text/plain": [
       "{2: 0}"
      ]
     },
     "execution_count": 10,
     "metadata": {},
     "output_type": "execute_result"
    }
   ],
   "source": [
    "dic"
   ]
  },
  {
   "cell_type": "markdown",
   "id": "74108dc0",
   "metadata": {},
   "source": [
    "# 1. Contains Duplicate\n",
    "\n",
    "https://leetcode.com/problems/contains-duplicate/"
   ]
  },
  {
   "cell_type": "code",
   "execution_count": 1,
   "id": "a185fef2",
   "metadata": {},
   "outputs": [],
   "source": [
    "##  My solution\n",
    "\n",
    "#Runtime: O(N)  Memory: O(N)"
   ]
  },
  {
   "cell_type": "code",
   "execution_count": 2,
   "id": "7234657b",
   "metadata": {},
   "outputs": [
    {
     "name": "stdout",
     "output_type": "stream",
     "text": [
      "found\n"
     ]
    }
   ],
   "source": [
    "nums = [1,2,3,1]\n",
    "\n",
    "dic={}\n",
    "for i in nums:\n",
    "    if i in dic.keys():\n",
    "        print(\"found\")\n",
    "        break\n",
    "    else:\n",
    "        dic[i]=1\n",
    "    "
   ]
  },
  {
   "cell_type": "code",
   "execution_count": 3,
   "id": "d55e4a97",
   "metadata": {},
   "outputs": [
    {
     "data": {
      "text/plain": [
       "{1: 1, 2: 1, 3: 1}"
      ]
     },
     "execution_count": 3,
     "metadata": {},
     "output_type": "execute_result"
    }
   ],
   "source": [
    "dic"
   ]
  },
  {
   "cell_type": "markdown",
   "id": "c8fe465a",
   "metadata": {},
   "source": [
    "# Contains Duplicate 2\n",
    "https://leetcode.com/problems/contains-duplicate-ii/"
   ]
  },
  {
   "cell_type": "code",
   "execution_count": 4,
   "id": "298ede24",
   "metadata": {},
   "outputs": [],
   "source": [
    "nums = [1,2,3,1]\n",
    "k = 3\n",
    "\n",
    "#Conditions: nums[i] == nums[j] and abs(i - j) <= k"
   ]
  },
  {
   "cell_type": "code",
   "execution_count": 5,
   "id": "a5fb46a2",
   "metadata": {},
   "outputs": [
    {
     "name": "stdout",
     "output_type": "stream",
     "text": [
      "0 3\n"
     ]
    }
   ],
   "source": [
    "import math\n",
    "\n",
    "for i in range(len(nums)):\n",
    "    for j in range(i+1,len(nums)):\n",
    "        if nums[i]==nums[j] and abs(i-j)<=k:\n",
    "            print(i,j)\n",
    "        else:\n",
    "            continue"
   ]
  },
  {
   "cell_type": "code",
   "execution_count": 6,
   "id": "e4539917",
   "metadata": {},
   "outputs": [
    {
     "name": "stdout",
     "output_type": "stream",
     "text": [
      "found\n"
     ]
    }
   ],
   "source": [
    "dic={}\n",
    "for i in range(len(nums)):\n",
    "    if nums[i] in dic.keys()and abs(i- dic[nums[i]]):\n",
    "            print(\"found\")\n",
    "            #return True\n",
    "    else:\n",
    "        dic[nums[i]]=i\n",
    "        "
   ]
  },
  {
   "cell_type": "code",
   "execution_count": null,
   "id": "1e218c57",
   "metadata": {},
   "outputs": [],
   "source": []
  },
  {
   "cell_type": "markdown",
   "id": "bc1dc980",
   "metadata": {},
   "source": [
    "# 2. Missing Number\n",
    "\n",
    "https://leetcode.com/problems/missing-number/"
   ]
  },
  {
   "cell_type": "code",
   "execution_count": 29,
   "id": "80ce351e",
   "metadata": {},
   "outputs": [],
   "source": [
    "nums = [3,0,1]"
   ]
  },
  {
   "cell_type": "code",
   "execution_count": 17,
   "id": "8b1c6542",
   "metadata": {},
   "outputs": [
    {
     "name": "stdout",
     "output_type": "stream",
     "text": [
      "2\n"
     ]
    }
   ],
   "source": [
    "max_num=max(nums)\n",
    "tot_sum=sum(list(range(0,max_num+1)))\n",
    "sum_nums=sum(nums)\n",
    "\n",
    "if 0 not in nums:\n",
    "    print(0)\n",
    "elif sum_nums== tot_sum:\n",
    "    print(max_num+1)\n",
    "else:\n",
    "    print(tot_sum - sum_nums)\n",
    "    \n",
    "       "
   ]
  },
  {
   "cell_type": "markdown",
   "id": "730471d3",
   "metadata": {},
   "source": [
    "### Optimized solution"
   ]
  },
  {
   "cell_type": "code",
   "execution_count": 33,
   "id": "ee19560e",
   "metadata": {},
   "outputs": [
    {
     "name": "stdout",
     "output_type": "stream",
     "text": [
      "2\n"
     ]
    }
   ],
   "source": [
    "nums=[0,1]\n",
    "n=len(nums)\n",
    "\n",
    "print( int(n*(n+1)/2) - sum(nums))\n",
    "    "
   ]
  },
  {
   "cell_type": "markdown",
   "id": "73d0952b",
   "metadata": {},
   "source": [
    "### Bit Manipulation : XOR\n",
    "\n",
    "> A xor B\t=\t(A ^ !B) v (!A ^ B)\n",
    "\n",
    "* Finding non repeated element in a list .\n",
    "\n",
    "        n ^ n = 0\n",
    "\n",
    "        n ^ 0 = n"
   ]
  },
  {
   "cell_type": "markdown",
   "id": "24d6cbe1",
   "metadata": {},
   "source": [
    "###### Bitwise Operations\n",
    "\n",
    "* bitwise right-shift operator is the same as performing integer division by 2**n\n",
    "* bitwise left-shift operator x << n is the same as multiplying the integer x with 2**n"
   ]
  },
  {
   "cell_type": "code",
   "execution_count": 4,
   "id": "622096c6",
   "metadata": {},
   "outputs": [
    {
     "name": "stdout",
     "output_type": "stream",
     "text": [
      "0b1001\n",
      "0b10010\n",
      "0b100\n"
     ]
    }
   ],
   "source": [
    "a=9\n",
    "print(bin(a))\n",
    "print(bin(a<<1))\n",
    "print(bin(a>>1))"
   ]
  },
  {
   "cell_type": "code",
   "execution_count": 35,
   "id": "1d0d0bed",
   "metadata": {},
   "outputs": [
    {
     "name": "stdout",
     "output_type": "stream",
     "text": [
      "2\n"
     ]
    }
   ],
   "source": [
    "n=len(nums)\n",
    "s=0\n",
    "for i in range(n+1):\n",
    "    s=s^i\n",
    "    \n",
    "for i in nums:\n",
    "    s=s^i\n",
    "print(s)"
   ]
  },
  {
   "attachments": {
    "image.png": {
     "image/png": "[encoded data removed]"
    }
   },
   "cell_type": "markdown",
   "id": "90f0644f",
   "metadata": {},
   "source": [
    "![image.png](attachment:image.png)\n",
    "\n",
    "> https://www.mathsisfun.com/pascals-triangle.html"
   ]
  },
  {
   "cell_type": "markdown",
   "id": "92bbc33c",
   "metadata": {},
   "source": [
    "# 3. Find All Numbers Disappeared in an Array\n",
    "\n",
    "https://leetcode.com/problems/find-all-numbers-disappeared-in-an-array/"
   ]
  },
  {
   "cell_type": "code",
   "execution_count": null,
   "id": "ee98f74b",
   "metadata": {},
   "outputs": [],
   "source": []
  },
  {
   "cell_type": "code",
   "execution_count": 43,
   "id": "9e59923f",
   "metadata": {},
   "outputs": [
    {
     "name": "stdout",
     "output_type": "stream",
     "text": [
      "{1: 1, 2: 0}\n",
      "[2]\n"
     ]
    }
   ],
   "source": [
    "nums = [1,1]\n",
    "n=len(nums)\n",
    "dic={}\n",
    "\n",
    "for i in range(1,n+1):\n",
    "    dic[i]=0\n",
    "\n",
    "for i in range(n):\n",
    "    dic[nums[i]]=1\n",
    "\n",
    "    \n",
    "print(dic)\n",
    "list1=[]\n",
    "for k,v in dic.items():\n",
    "    if v==0:\n",
    "        list1.append(k)\n",
    "print(list1)\n",
    "        \n",
    "        \n",
    "\n",
    "        "
   ]
  },
  {
   "cell_type": "code",
   "execution_count": null,
   "id": "995aecd2",
   "metadata": {},
   "outputs": [],
   "source": []
  },
  {
   "cell_type": "code",
   "execution_count": 46,
   "id": "9fba606e",
   "metadata": {},
   "outputs": [
    {
     "name": "stdout",
     "output_type": "stream",
     "text": [
      "[2]\n"
     ]
    }
   ],
   "source": [
    "n=len(nums)\n",
    "\n",
    "list1=[i for i in range(1,n+1)]\n",
    "\n",
    "print(list(set(list1)-set(nums)))"
   ]
  },
  {
   "cell_type": "markdown",
   "id": "98742008",
   "metadata": {},
   "source": [
    "## New Concept\n",
    "\n",
    "> We can iterate over nums and for each element, we know it can be mapped to index nums[i]-1. We can therefore mark the element nums[i] as present in nums by making the element at index nums[i]-1 negative. Thus after iterating the array, we have -\n",
    "\n",
    "> * nums[i] < 0 or nums[i] is negative only if the element i+1 is present in the array.\n",
    "> * nums[i] > 0 or nums[i] is positive only if the element i+1 is not present in the array"
   ]
  },
  {
   "cell_type": "code",
   "execution_count": 71,
   "id": "774fe1b6",
   "metadata": {
    "scrolled": true
   },
   "outputs": [
    {
     "name": "stdout",
     "output_type": "stream",
     "text": [
      "[5, 6]\n"
     ]
    }
   ],
   "source": [
    "for i in range(len(nums)):\n",
    "    index= abs(nums[i])-1\n",
    "    nums[index]=abs(nums[index])*-1\n",
    "    \n",
    "print([i+1 for i,v in enumerate(nums) if nums[i]>0])"
   ]
  },
  {
   "cell_type": "code",
   "execution_count": null,
   "id": "0d11b0c8",
   "metadata": {},
   "outputs": [],
   "source": []
  },
  {
   "cell_type": "markdown",
   "id": "b2a6c6e3",
   "metadata": {},
   "source": [
    "## 4.  Single Number\n",
    "\n",
    "https://leetcode.com/problems/single-number/"
   ]
  },
  {
   "cell_type": "code",
   "execution_count": null,
   "id": "55642223",
   "metadata": {},
   "outputs": [],
   "source": []
  },
  {
   "cell_type": "code",
   "execution_count": 21,
   "id": "7589d444",
   "metadata": {},
   "outputs": [
    {
     "name": "stdout",
     "output_type": "stream",
     "text": [
      "2\n"
     ]
    },
    {
     "data": {
      "text/plain": [
       "0"
      ]
     },
     "execution_count": 21,
     "metadata": {},
     "output_type": "execute_result"
    }
   ],
   "source": [
    "nums=[2,2,1]\n",
    "j=0\n",
    "for _,i in  enumerate(nums):\n",
    "    print(i)\n",
    "    break\n",
    "    j=j^i\n",
    "j"
   ]
  },
  {
   "cell_type": "code",
   "execution_count": null,
   "id": "405152ea",
   "metadata": {},
   "outputs": [],
   "source": []
  },
  {
   "cell_type": "markdown",
   "id": "0731c756",
   "metadata": {},
   "source": [
    "# 5.Climbing Stairs\n",
    "\n",
    "https://leetcode.com/problems/climbing-stairs/"
   ]
  },
  {
   "cell_type": "code",
   "execution_count": 5,
   "id": "60cd604f",
   "metadata": {},
   "outputs": [
    {
     "name": "stdout",
     "output_type": "stream",
     "text": [
      "yes\n",
      "0\n",
      "yes\n",
      "1\n",
      "yes\n",
      "1\n",
      "yes\n",
      "yes\n",
      "yes\n",
      "2\n",
      "yes\n",
      "yes\n",
      "yes\n",
      "yes\n",
      "yes\n",
      "3\n"
     ]
    }
   ],
   "source": [
    "def fib(n):\n",
    "    n1=0\n",
    "    n2=1\n",
    "    l=[]\n",
    "    l.append(n1)\n",
    "    l.append(n2)\n",
    "    \n",
    "    if n<=2:\n",
    "        return l[:n]\n",
    "        \n",
    "    else:\n",
    "        \n",
    "        for i in range(2,n):\n",
    "            n3=n1+n2\n",
    "            l.append(n3)\n",
    "            n1=n2\n",
    "            n2=n3\n",
    "        return l\n",
    "    \n",
    "    \n",
    "def fib(n):\n",
    "    print('yes')\n",
    "    if n==0:\n",
    "        return 0\n",
    "    elif n==1 or n==2:\n",
    "        return 1\n",
    "    else:\n",
    "        return fib(n-1)+fib(n-2)\n",
    "    \n",
    "for i in range(5):\n",
    "    print(fib(i))\n",
    "    "
   ]
  },
  {
   "cell_type": "markdown",
   "id": "3aaa3df5",
   "metadata": {},
   "source": [
    "> Recursive is bad, Time complexity : O(2^n)\n",
    "\n",
    "> Iterative time complexity : O(n)"
   ]
  },
  {
   "cell_type": "code",
   "execution_count": 11,
   "id": "420351ad",
   "metadata": {},
   "outputs": [
    {
     "data": {
      "text/plain": [
       "8"
      ]
     },
     "execution_count": 11,
     "metadata": {},
     "output_type": "execute_result"
    }
   ],
   "source": [
    "#solution:\n",
    "    \n",
    "def climbStairs(n):\n",
    "    if n==1: return 1\n",
    "    elif n==2: return 2\n",
    "    else:\n",
    "        n1=n2=1\n",
    "        for _,i in enumerate(range(2,n+1)):\n",
    "            n3=n1+n2\n",
    "            n1=n2\n",
    "            n2=n3\n",
    "        return n2\n",
    "    \n",
    "climbStairs(5)\n",
    "        \n",
    "    "
   ]
  },
  {
   "cell_type": "code",
   "execution_count": null,
   "id": "37b2b458",
   "metadata": {},
   "outputs": [],
   "source": []
  },
  {
   "cell_type": "code",
   "execution_count": 4,
   "id": "e2f6c628",
   "metadata": {},
   "outputs": [
    {
     "data": {
      "text/plain": [
       "(1, 0, [1, 3, 0])"
      ]
     },
     "execution_count": 4,
     "metadata": {},
     "output_type": "execute_result"
    }
   ],
   "source": [
    "min_=9999999999\n",
    "min_ind=-1\n",
    "max_=0\n",
    "prices=[2,4,1]\n",
    "for i,p in enumerate(prices):\n",
    "    if p<min_:\n",
    "        min_=p\n",
    "        min_ind=i\n",
    "k=[]\n",
    "for i,p in enumerate(prices):\n",
    "    k.append(p-min_)\n",
    "\n",
    "for i,p in enumerate(k):\n",
    "    if i>min_ind:\n",
    "        if p>max_:\n",
    "            max_=p\n",
    "            \n",
    "min_,max_,k"
   ]
  },
  {
   "cell_type": "code",
   "execution_count": null,
   "id": "7a15c644",
   "metadata": {},
   "outputs": [],
   "source": []
  },
  {
   "cell_type": "code",
   "execution_count": null,
   "id": "51278238",
   "metadata": {},
   "outputs": [],
   "source": []
  }
 ],
 "metadata": {
  "kernelspec": {
   "display_name": "Python 3 (ipykernel)",
   "language": "python",
   "name": "python3"
  },
  "language_info": {
   "codemirror_mode": {
    "name": "ipython",
    "version": 3
   },
   "file_extension": ".py",
   "mimetype": "text/x-python",
   "name": "python",
   "nbconvert_exporter": "python",
   "pygments_lexer": "ipython3",
   "version": "3.10.9"
  }
 },
 "nbformat": 4,
 "nbformat_minor": 5
}
