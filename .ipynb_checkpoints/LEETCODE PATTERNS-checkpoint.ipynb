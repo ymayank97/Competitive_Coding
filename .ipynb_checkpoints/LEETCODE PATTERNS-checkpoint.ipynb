{
 "cells": [
  {
   "cell_type": "markdown",
   "id": "aebe5ea6",
   "metadata": {},
   "source": [
    "# Leetcode Patterns \n",
    "\n",
    "> Solving 2-3 questions daily ..😂"
   ]
  },
  {
   "cell_type": "markdown",
   "id": "f91430fd",
   "metadata": {},
   "source": [
    "# 2 sum\n",
    " \n",
    " \n",
    " Return 2 indices , Cannot use same number twice\n",
    " \n",
    " https://leetcode.com/problems/two-sum/"
   ]
  },
  {
   "cell_type": "code",
   "execution_count": 20,
   "id": "e81eef35",
   "metadata": {},
   "outputs": [],
   "source": [
    "nums=[2,7,11,15]\n",
    "target=9\n",
    "\n",
    "nums = [3,2,4]\n",
    "target = 6"
   ]
  },
  {
   "cell_type": "markdown",
   "id": "744d5e33",
   "metadata": {},
   "source": [
    "### Brute force\n",
    "\n",
    "Time : O(N^2) Space: 2O(N)"
   ]
  },
  {
   "cell_type": "code",
   "execution_count": 21,
   "id": "89930031",
   "metadata": {},
   "outputs": [
    {
     "name": "stdout",
     "output_type": "stream",
     "text": [
      "1 2\n"
     ]
    }
   ],
   "source": [
    "for i in range(0,len(nums)):\n",
    "    for j in range(i+1,len(nums)):\n",
    "#         print(i,j)\n",
    "        if nums[i]+nums[j]== target:\n",
    "            print(i,j)"
   ]
  },
  {
   "cell_type": "code",
   "execution_count": 22,
   "id": "1a8b06dc",
   "metadata": {},
   "outputs": [
    {
     "name": "stdout",
     "output_type": "stream",
     "text": [
      "2 1\n"
     ]
    }
   ],
   "source": [
    "dic={}\n",
    "for i in range(0,len(nums)):\n",
    "    diff = target - nums[i]\n",
    "    \n",
    "    if diff in dic.keys():\n",
    "        print( i, dic[diff])\n",
    "    else:\n",
    "        dic[nums[i]]=i"
   ]
  },
  {
   "cell_type": "markdown",
   "id": "74108dc0",
   "metadata": {},
   "source": [
    "# Contains Duplicate\n",
    "\n",
    "https://leetcode.com/problems/contains-duplicate/"
   ]
  },
  {
   "cell_type": "code",
   "execution_count": 1,
   "id": "a185fef2",
   "metadata": {},
   "outputs": [],
   "source": [
    "##  My solution\n",
    "\n",
    "#Runtime: O(N)  Memory: O(N)"
   ]
  },
  {
   "cell_type": "code",
   "execution_count": 2,
   "id": "7234657b",
   "metadata": {},
   "outputs": [
    {
     "name": "stdout",
     "output_type": "stream",
     "text": [
      "found\n"
     ]
    }
   ],
   "source": [
    "nums = [1,2,3,1]\n",
    "\n",
    "dic={}\n",
    "for i in nums:\n",
    "    if i in dic.keys():\n",
    "        print(\"found\")\n",
    "        break\n",
    "    else:\n",
    "        dic[i]=1\n",
    "    "
   ]
  },
  {
   "cell_type": "code",
   "execution_count": 3,
   "id": "d55e4a97",
   "metadata": {},
   "outputs": [
    {
     "data": {
      "text/plain": [
       "{1: 1, 2: 1, 3: 1}"
      ]
     },
     "execution_count": 3,
     "metadata": {},
     "output_type": "execute_result"
    }
   ],
   "source": [
    "dic"
   ]
  },
  {
   "cell_type": "markdown",
   "id": "c8fe465a",
   "metadata": {},
   "source": [
    "# Contains Duplicate 2\n",
    "https://leetcode.com/problems/contains-duplicate-ii/"
   ]
  },
  {
   "cell_type": "code",
   "execution_count": 4,
   "id": "298ede24",
   "metadata": {},
   "outputs": [],
   "source": [
    "nums = [1,2,3,1]\n",
    "k = 3\n",
    "\n",
    "#Conditions: nums[i] == nums[j] and abs(i - j) <= k"
   ]
  },
  {
   "cell_type": "code",
   "execution_count": 5,
   "id": "a5fb46a2",
   "metadata": {},
   "outputs": [
    {
     "name": "stdout",
     "output_type": "stream",
     "text": [
      "0 3\n"
     ]
    }
   ],
   "source": [
    "import math\n",
    "\n",
    "for i in range(len(nums)):\n",
    "    for j in range(i+1,len(nums)):\n",
    "        if nums[i]==nums[j] and abs(i-j)<=k:\n",
    "            print(i,j)\n",
    "        else:\n",
    "            continue"
   ]
  },
  {
   "cell_type": "code",
   "execution_count": 6,
   "id": "e4539917",
   "metadata": {},
   "outputs": [
    {
     "name": "stdout",
     "output_type": "stream",
     "text": [
      "found\n"
     ]
    }
   ],
   "source": [
    "dic={}\n",
    "for i in range(len(nums)):\n",
    "    if nums[i] in dic.keys()and abs(i- dic[nums[i]]):\n",
    "            print(\"found\")\n",
    "            #return True\n",
    "    else:\n",
    "        dic[nums[i]]=i\n",
    "        "
   ]
  },
  {
   "cell_type": "code",
   "execution_count": null,
   "id": "1e218c57",
   "metadata": {},
   "outputs": [],
   "source": []
  },
  {
   "cell_type": "markdown",
   "id": "bc1dc980",
   "metadata": {},
   "source": [
    "#  Missing Number"
   ]
  },
  {
   "cell_type": "code",
   "execution_count": 29,
   "id": "80ce351e",
   "metadata": {},
   "outputs": [],
   "source": [
    "nums = [3,0,1]"
   ]
  },
  {
   "cell_type": "code",
   "execution_count": 17,
   "id": "8b1c6542",
   "metadata": {},
   "outputs": [
    {
     "name": "stdout",
     "output_type": "stream",
     "text": [
      "2\n"
     ]
    }
   ],
   "source": [
    "max_num=max(nums)\n",
    "tot_sum=sum(list(range(0,max_num+1)))\n",
    "sum_nums=sum(nums)\n",
    "\n",
    "if 0 not in nums:\n",
    "    print(0)\n",
    "elif sum_nums== tot_sum:\n",
    "    print(max_num+1)\n",
    "else:\n",
    "    print(tot_sum - sum_nums)\n",
    "    \n",
    "       "
   ]
  },
  {
   "cell_type": "markdown",
   "id": "730471d3",
   "metadata": {},
   "source": [
    "### Optimized solution"
   ]
  },
  {
   "cell_type": "code",
   "execution_count": 33,
   "id": "ee19560e",
   "metadata": {},
   "outputs": [
    {
     "name": "stdout",
     "output_type": "stream",
     "text": [
      "2\n"
     ]
    }
   ],
   "source": [
    "nums=[0,1]\n",
    "n=len(nums)\n",
    "\n",
    "print( int(n*(n+1)/2) - sum(nums))\n",
    "    "
   ]
  },
  {
   "cell_type": "markdown",
   "id": "73d0952b",
   "metadata": {},
   "source": [
    "## Bit Manipulation : XOR"
   ]
  },
  {
   "cell_type": "code",
   "execution_count": 35,
   "id": "1d0d0bed",
   "metadata": {},
   "outputs": [
    {
     "name": "stdout",
     "output_type": "stream",
     "text": [
      "2\n"
     ]
    }
   ],
   "source": [
    "n=len(nums)\n",
    "s=0\n",
    "for i in range(n+1):\n",
    "    s=s^i\n",
    "    \n",
    "for i in nums:\n",
    "    s=s^i\n",
    "print(s)"
   ]
  },
  {
   "cell_type": "code",
   "execution_count": null,
   "id": "6d3a3010",
   "metadata": {},
   "outputs": [],
   "source": []
  },
  {
   "cell_type": "markdown",
   "id": "92bbc33c",
   "metadata": {},
   "source": [
    "## Find All Numbers Disappeared in an Array\n",
    "\n",
    "https://leetcode.com/problems/find-all-numbers-disappeared-in-an-array/"
   ]
  },
  {
   "cell_type": "code",
   "execution_count": null,
   "id": "ee98f74b",
   "metadata": {},
   "outputs": [],
   "source": []
  },
  {
   "cell_type": "code",
   "execution_count": 43,
   "id": "9e59923f",
   "metadata": {},
   "outputs": [
    {
     "name": "stdout",
     "output_type": "stream",
     "text": [
      "{1: 1, 2: 0}\n",
      "[2]\n"
     ]
    }
   ],
   "source": [
    "nums = [1,1]\n",
    "n=len(nums)\n",
    "dic={}\n",
    "\n",
    "for i in range(1,n+1):\n",
    "    dic[i]=0\n",
    "\n",
    "for i in range(n):\n",
    "    dic[nums[i]]=1\n",
    "\n",
    "    \n",
    "print(dic)\n",
    "list1=[]\n",
    "for k,v in dic.items():\n",
    "    if v==0:\n",
    "        list1.append(k)\n",
    "print(list1)\n",
    "        \n",
    "        \n",
    "\n",
    "        "
   ]
  },
  {
   "cell_type": "code",
   "execution_count": null,
   "id": "995aecd2",
   "metadata": {},
   "outputs": [],
   "source": []
  },
  {
   "cell_type": "code",
   "execution_count": 46,
   "id": "9fba606e",
   "metadata": {},
   "outputs": [
    {
     "name": "stdout",
     "output_type": "stream",
     "text": [
      "[2]\n"
     ]
    }
   ],
   "source": [
    "n=len(nums)\n",
    "\n",
    "list1=[i for i in range(1,n+1)]\n",
    "\n",
    "print(list(set(list1)-set(nums)))"
   ]
  },
  {
   "cell_type": "markdown",
   "id": "98742008",
   "metadata": {},
   "source": [
    "#### Important solution"
   ]
  },
  {
   "cell_type": "code",
   "execution_count": 71,
   "id": "774fe1b6",
   "metadata": {},
   "outputs": [
    {
     "name": "stdout",
     "output_type": "stream",
     "text": [
      "[5, 6]\n"
     ]
    }
   ],
   "source": [
    "for i in range(len(nums)):\n",
    "    index= abs(nums[i])-1\n",
    "    nums[index]=abs(nums[index])*-1\n",
    "    \n",
    "print([i+1 for i,v in enumerate(nums) if nums[i]>0])"
   ]
  },
  {
   "cell_type": "markdown",
   "id": "1e369ba8",
   "metadata": {},
   "source": [
    "# Battleships in a board leetcode\n"
   ]
  },
  {
   "cell_type": "code",
   "execution_count": null,
   "id": "bd6d1baa",
   "metadata": {},
   "outputs": [],
   "source": [
    "board = [[\"X\",\".\",\".\",\"X\"],[\".\",\".\",\".\",\"X\"],[\".\",\".\",\".\",\"X\"]]\n",
    "\n",
    "\n",
    "m,n=len(board),len(board[0])\n",
    "\n",
    "flag=0\n",
    "\n",
    "for i in range(m):\n",
    "    for j in range(n):\n",
    "        if board[i][j]==\"X\":\n",
    "            flag+=1\n",
    "            # check adjacent cells\n",
    "            if i>0 and board[i-1][j]==\"X\":\n",
    "                flag-=1\n",
    "            if j>0 and board[i][j-1]==\"X\":\n",
    "                flag-=1\n",
    "print(flag)"
   ]
  },
  {
   "cell_type": "markdown",
   "id": "7796ab4d",
   "metadata": {},
   "source": [
    "# Reverse a string"
   ]
  },
  {
   "cell_type": "code",
   "execution_count": 6,
   "id": "30d448a7",
   "metadata": {},
   "outputs": [],
   "source": [
    "def reverse(s):\n",
    "    str=\"\"\n",
    "    for i in s:\n",
    "        str=str+i\n",
    "    return str"
   ]
  },
  {
   "cell_type": "code",
   "execution_count": 9,
   "id": "b145a81d",
   "metadata": {},
   "outputs": [
    {
     "data": {
      "text/plain": [
       "'knayam'"
      ]
     },
     "execution_count": 9,
     "metadata": {},
     "output_type": "execute_result"
    }
   ],
   "source": [
    "'mayank'[::-1]"
   ]
  },
  {
   "cell_type": "code",
   "execution_count": 13,
   "id": "1d52c474",
   "metadata": {},
   "outputs": [],
   "source": [
    "def reverse(s):\n",
    "    if len(s)==0:\n",
    "        return s\n",
    "    else:\n",
    "        return reverse(s[1:]) + s[0]"
   ]
  },
  {
   "cell_type": "code",
   "execution_count": 14,
   "id": "da786e3e",
   "metadata": {},
   "outputs": [
    {
     "data": {
      "text/plain": [
       "'knayam'"
      ]
     },
     "execution_count": 14,
     "metadata": {},
     "output_type": "execute_result"
    }
   ],
   "source": [
    "reverse('mayank')"
   ]
  },
  {
   "cell_type": "code",
   "execution_count": 16,
   "id": "0daf21a3",
   "metadata": {},
   "outputs": [],
   "source": [
    "# Method 4 -- stack to be implemented"
   ]
  },
  {
   "cell_type": "code",
   "execution_count": null,
   "id": "998af2fb",
   "metadata": {},
   "outputs": [],
   "source": []
  },
  {
   "cell_type": "code",
   "execution_count": null,
   "id": "5fcb2a4c",
   "metadata": {},
   "outputs": [],
   "source": []
  }
 ],
 "metadata": {
  "kernelspec": {
   "display_name": "Python 3 (ipykernel)",
   "language": "python",
   "name": "python3"
  },
  "language_info": {
   "codemirror_mode": {
    "name": "ipython",
    "version": 3
   },
   "file_extension": ".py",
   "mimetype": "text/x-python",
   "name": "python",
   "nbconvert_exporter": "python",
   "pygments_lexer": "ipython3",
   "version": "3.10.1"
  }
 },
 "nbformat": 4,
 "nbformat_minor": 5
}
