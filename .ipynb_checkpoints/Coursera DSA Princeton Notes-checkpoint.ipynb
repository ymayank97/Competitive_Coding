{
 "cells": [
  {
   "cell_type": "markdown",
   "id": "9d80d6b5",
   "metadata": {},
   "source": [
    "## Union Find Data Type"
   ]
  },
  {
   "cell_type": "markdown",
   "id": "59b9840c",
   "metadata": {},
   "source": [
    "* Solving connectivity problem by checking if there is a path connecting two objects  (is connected to)\n",
    "* 2 steps: union(add connection) and find ( check if they are in same component)"
   ]
  },
  {
   "cell_type": "markdown",
   "id": "fed18084",
   "metadata": {},
   "source": [
    "## Quick Find(eager approach)\n",
    "> N^2 array access"
   ]
  },
  {
   "cell_type": "code",
   "execution_count": 1,
   "id": "dccfb3d8",
   "metadata": {},
   "outputs": [],
   "source": [
    "# to be implemented"
   ]
  },
  {
   "cell_type": "code",
   "execution_count": null,
   "id": "edfe718f",
   "metadata": {},
   "outputs": [],
   "source": []
  },
  {
   "cell_type": "code",
   "execution_count": null,
   "id": "0a02e0eb",
   "metadata": {},
   "outputs": [],
   "source": []
  },
  {
   "cell_type": "code",
   "execution_count": null,
   "id": "955cecf5",
   "metadata": {},
   "outputs": [],
   "source": []
  },
  {
   "cell_type": "code",
   "execution_count": null,
   "id": "c8384460",
   "metadata": {},
   "outputs": [],
   "source": []
  },
  {
   "cell_type": "code",
   "execution_count": null,
   "id": "03877eaa",
   "metadata": {},
   "outputs": [],
   "source": []
  },
  {
   "cell_type": "code",
   "execution_count": null,
   "id": "6dd5760e",
   "metadata": {},
   "outputs": [],
   "source": []
  },
  {
   "cell_type": "code",
   "execution_count": null,
   "id": "f65766e6",
   "metadata": {},
   "outputs": [],
   "source": []
  },
  {
   "cell_type": "code",
   "execution_count": null,
   "id": "73ac6722",
   "metadata": {},
   "outputs": [],
   "source": []
  },
  {
   "cell_type": "code",
   "execution_count": null,
   "id": "9bcbaa14",
   "metadata": {},
   "outputs": [],
   "source": []
  }
 ],
 "metadata": {
  "kernelspec": {
   "display_name": "Python 3 (ipykernel)",
   "language": "python",
   "name": "python3"
  },
  "language_info": {
   "codemirror_mode": {
    "name": "ipython",
    "version": 3
   },
   "file_extension": ".py",
   "mimetype": "text/x-python",
   "name": "python",
   "nbconvert_exporter": "python",
   "pygments_lexer": "ipython3",
   "version": "3.10.1"
  }
 },
 "nbformat": 4,
 "nbformat_minor": 5
}
