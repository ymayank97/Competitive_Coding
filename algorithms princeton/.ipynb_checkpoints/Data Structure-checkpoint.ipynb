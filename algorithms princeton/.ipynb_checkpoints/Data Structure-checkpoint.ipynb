{
 "cells": [
  {
   "cell_type": "markdown",
   "id": "661809d5",
   "metadata": {},
   "source": [
    "## Linked List\n",
    "\n",
    "* Chain of nodes\n",
    "* dynamic size and ease of insertion and deletion properties "
   ]
  },
  {
   "cell_type": "code",
   "execution_count": 6,
   "id": "de3f27f4",
   "metadata": {},
   "outputs": [
    {
     "name": "stdout",
     "output_type": "stream",
     "text": [
      "3\n",
      "6\n",
      "1\n",
      "4\n"
     ]
    }
   ],
   "source": [
    "class Node:\n",
    "    def __init__(self, data, next = None):\n",
    "        self.data = data\n",
    "        self.next = next\n",
    "        \n",
    "class LinkedList:\n",
    "    def __init__(self):\n",
    "        self.head = None\n",
    "        \n",
    "    def insert(self, data):\n",
    "        newNode = Node(data)\n",
    "        if self.head:\n",
    "            current = self.head\n",
    "            while current.next:\n",
    "                current = current.next\n",
    "            current.next = newNode\n",
    "        else:\n",
    "            self.head = newNode\n",
    "            \n",
    "    def display(self):\n",
    "        current = self.head\n",
    "        \n",
    "        while current:\n",
    "            print(current.data)\n",
    "            current = current.next\n",
    "            \n",
    "LL = LinkedList()\n",
    "\n",
    "LL.insert(3)\n",
    "LL.insert(6)\n",
    "LL.insert(1)\n",
    "LL.insert(4)\n",
    "\n",
    "LL.display()"
   ]
  },
  {
   "cell_type": "code",
   "execution_count": null,
   "id": "96a9ce39",
   "metadata": {},
   "outputs": [],
   "source": []
  },
  {
   "cell_type": "code",
   "execution_count": null,
   "id": "3fb78cd0",
   "metadata": {},
   "outputs": [],
   "source": []
  },
  {
   "cell_type": "code",
   "execution_count": null,
   "id": "08c1b8f6",
   "metadata": {},
   "outputs": [],
   "source": []
  },
  {
   "cell_type": "code",
   "execution_count": null,
   "id": "642a2f4d",
   "metadata": {},
   "outputs": [],
   "source": []
  }
 ],
 "metadata": {
  "kernelspec": {
   "display_name": "Python 3 (ipykernel)",
   "language": "python",
   "name": "python3"
  },
  "language_info": {
   "codemirror_mode": {
    "name": "ipython",
    "version": 3
   },
   "file_extension": ".py",
   "mimetype": "text/x-python",
   "name": "python",
   "nbconvert_exporter": "python",
   "pygments_lexer": "ipython3",
   "version": "3.10.9"
  }
 },
 "nbformat": 4,
 "nbformat_minor": 5
}
